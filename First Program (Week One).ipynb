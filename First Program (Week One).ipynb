{
 "cells": [
  {
   "cell_type": "markdown",
   "metadata": {},
   "source": [
    "# Fundamentals"
   ]
  },
  {
   "cell_type": "code",
   "execution_count": 1,
   "metadata": {},
   "outputs": [
    {
     "name": "stdout",
     "output_type": "stream",
     "text": [
      "hello\n"
     ]
    }
   ],
   "source": [
    "print(\"hello\")"
   ]
  },
  {
   "cell_type": "code",
   "execution_count": 2,
   "metadata": {},
   "outputs": [
    {
     "data": {
      "text/plain": [
       "10"
      ]
     },
     "execution_count": 2,
     "metadata": {},
     "output_type": "execute_result"
    }
   ],
   "source": [
    "x = 10 \n",
    "x"
   ]
  },
  {
   "cell_type": "code",
   "execution_count": 3,
   "metadata": {},
   "outputs": [
    {
     "name": "stdout",
     "output_type": "stream",
     "text": [
      "<class 'int'>\n"
     ]
    }
   ],
   "source": [
    "print(type(x))"
   ]
  },
  {
   "cell_type": "markdown",
   "metadata": {},
   "source": [
    "# Note\n",
    "- Class is a collection of various methods/functions.\n",
    "- In python int is also a function\n",
    "- In c/c++ or java, int is not a class. Its a data type\n"
   ]
  },
  {
   "cell_type": "code",
   "execution_count": 4,
   "metadata": {},
   "outputs": [
    {
     "data": {
      "text/plain": [
       "True"
      ]
     },
     "execution_count": 4,
     "metadata": {},
     "output_type": "execute_result"
    }
   ],
   "source": [
    "p = True\n",
    "p"
   ]
  },
  {
   "cell_type": "code",
   "execution_count": 5,
   "metadata": {},
   "outputs": [
    {
     "name": "stdout",
     "output_type": "stream",
     "text": [
      "<class 'bool'>\n"
     ]
    }
   ],
   "source": [
    "print(type(p))"
   ]
  },
  {
   "cell_type": "markdown",
   "metadata": {},
   "source": [
    "# Check Size in Python\n"
   ]
  },
  {
   "cell_type": "code",
   "execution_count": 6,
   "metadata": {},
   "outputs": [
    {
     "data": {
      "text/plain": [
       "28"
      ]
     },
     "execution_count": 6,
     "metadata": {},
     "output_type": "execute_result"
    }
   ],
   "source": [
    "import sys\n",
    "sys.getsizeof(x)"
   ]
  },
  {
   "cell_type": "markdown",
   "metadata": {},
   "source": [
    "##### The above int size is 28 bytes, this size may vary and maynot be same everytime."
   ]
  },
  {
   "cell_type": "code",
   "execution_count": 7,
   "metadata": {},
   "outputs": [],
   "source": [
    "x = 15152125565"
   ]
  },
  {
   "cell_type": "code",
   "execution_count": 8,
   "metadata": {},
   "outputs": [
    {
     "data": {
      "text/plain": [
       "32"
      ]
     },
     "execution_count": 8,
     "metadata": {},
     "output_type": "execute_result"
    }
   ],
   "source": [
    "sys.getsizeof(x)"
   ]
  },
  {
   "cell_type": "code",
   "execution_count": 9,
   "metadata": {},
   "outputs": [
    {
     "data": {
      "text/plain": [
       "2.0"
      ]
     },
     "execution_count": 9,
     "metadata": {},
     "output_type": "execute_result"
    }
   ],
   "source": [
    "x = 10\n",
    "y = 20\n",
    "z = y/x\n",
    "z"
   ]
  },
  {
   "cell_type": "code",
   "execution_count": 10,
   "metadata": {},
   "outputs": [
    {
     "data": {
      "text/plain": [
       "2"
      ]
     },
     "execution_count": 10,
     "metadata": {},
     "output_type": "execute_result"
    }
   ],
   "source": [
    "#here it ignores the fractional part(Floor division)\n",
    "x = 10\n",
    "y = 20\n",
    "z = y//x\n",
    "z"
   ]
  },
  {
   "cell_type": "code",
   "execution_count": 11,
   "metadata": {},
   "outputs": [
    {
     "data": {
      "text/plain": [
       "1"
      ]
     },
     "execution_count": 11,
     "metadata": {},
     "output_type": "execute_result"
    }
   ],
   "source": [
    "p = 10 \n",
    "q = 3\n",
    "r = p%q\n",
    "r"
   ]
  },
  {
   "cell_type": "markdown",
   "metadata": {},
   "source": [
    "# Taking user Input"
   ]
  },
  {
   "cell_type": "code",
   "execution_count": 12,
   "metadata": {},
   "outputs": [
    {
     "name": "stdout",
     "output_type": "stream",
     "text": [
      "35\n"
     ]
    }
   ],
   "source": [
    "x = input()"
   ]
  },
  {
   "cell_type": "code",
   "execution_count": 13,
   "metadata": {},
   "outputs": [
    {
     "data": {
      "text/plain": [
       "str"
      ]
     },
     "execution_count": 13,
     "metadata": {},
     "output_type": "execute_result"
    }
   ],
   "source": [
    "type(x) # It gives string as the type, so type cast it as below"
   ]
  },
  {
   "cell_type": "code",
   "execution_count": 19,
   "metadata": {},
   "outputs": [
    {
     "name": "stdout",
     "output_type": "stream",
     "text": [
      "Enter the Number:34\n"
     ]
    }
   ],
   "source": [
    "x = int(input(\"Enter the Number:\"))"
   ]
  },
  {
   "cell_type": "code",
   "execution_count": 20,
   "metadata": {},
   "outputs": [
    {
     "data": {
      "text/plain": [
       "int"
      ]
     },
     "execution_count": 20,
     "metadata": {},
     "output_type": "execute_result"
    }
   ],
   "source": [
    "type(x)"
   ]
  },
  {
   "cell_type": "code",
   "execution_count": 16,
   "metadata": {},
   "outputs": [
    {
     "name": "stdout",
     "output_type": "stream",
     "text": [
      "45\n"
     ]
    }
   ],
   "source": [
    "y = float(input())"
   ]
  },
  {
   "cell_type": "code",
   "execution_count": 17,
   "metadata": {},
   "outputs": [
    {
     "data": {
      "text/plain": [
       "float"
      ]
     },
     "execution_count": 17,
     "metadata": {},
     "output_type": "execute_result"
    }
   ],
   "source": [
    "type(y)"
   ]
  },
  {
   "cell_type": "code",
   "execution_count": 21,
   "metadata": {},
   "outputs": [
    {
     "data": {
      "text/plain": [
       "45.0"
      ]
     },
     "execution_count": 21,
     "metadata": {},
     "output_type": "execute_result"
    }
   ],
   "source": [
    "y"
   ]
  },
  {
   "cell_type": "code",
   "execution_count": 22,
   "metadata": {},
   "outputs": [
    {
     "name": "stdout",
     "output_type": "stream",
     "text": [
      "True\n"
     ]
    }
   ],
   "source": [
    "x = 10\n",
    "y = 20 \n",
    "z = x < y\n",
    "print(z)"
   ]
  },
  {
   "cell_type": "markdown",
   "metadata": {},
   "source": [
    "#### == is comparison operator "
   ]
  },
  {
   "cell_type": "code",
   "execution_count": 24,
   "metadata": {},
   "outputs": [
    {
     "data": {
      "text/plain": [
       "False"
      ]
     },
     "execution_count": 24,
     "metadata": {},
     "output_type": "execute_result"
    }
   ],
   "source": [
    "x = 10\n",
    "y = 20\n",
    "z = 15\n",
    "\n",
    "p = x<y and y<z\n",
    "p"
   ]
  },
  {
   "cell_type": "code",
   "execution_count": 25,
   "metadata": {},
   "outputs": [
    {
     "ename": "SyntaxError",
     "evalue": "invalid syntax (<ipython-input-25-f7e82c00154e>, line 3)",
     "output_type": "error",
     "traceback": [
      "\u001b[1;36m  File \u001b[1;32m\"<ipython-input-25-f7e82c00154e>\"\u001b[1;36m, line \u001b[1;32m3\u001b[0m\n\u001b[1;33m    z = x<y and (x = x+1)\u001b[0m\n\u001b[1;37m                   ^\u001b[0m\n\u001b[1;31mSyntaxError\u001b[0m\u001b[1;31m:\u001b[0m invalid syntax\n"
     ]
    }
   ],
   "source": [
    "#This will give error\n",
    "x =10\n",
    "y = 20\n",
    "z = (x<y) and (x = x+1)\n",
    "z"
   ]
  },
  {
   "cell_type": "code",
   "execution_count": 2,
   "metadata": {},
   "outputs": [
    {
     "name": "stdout",
     "output_type": "stream",
     "text": [
      "Enter the radius:12\n",
      "Area is 452.3893421169302\n"
     ]
    }
   ],
   "source": [
    "#write a program to find the area of circle\n",
    "\n",
    "import math\n",
    "r = float(input(\"Enter the radius:\"))\n",
    "area = (math.pi)*(r**2)\n",
    "print(\"Area is\",area)"
   ]
  },
  {
   "cell_type": "code",
   "execution_count": 5,
   "metadata": {},
   "outputs": [
    {
     "name": "stdout",
     "output_type": "stream",
     "text": [
      "enter the base:12\n",
      "Enter the height:10\n",
      "Area is 60.0\n"
     ]
    }
   ],
   "source": [
    "#area of triangle\n",
    "b =float(input(\"enter the base:\"))\n",
    "h = float(input(\"Enter the height:\" ))\n",
    "\n",
    "area = 0.5*b*h\n",
    "print('Area is', area)"
   ]
  },
  {
   "cell_type": "code",
   "execution_count": 6,
   "metadata": {},
   "outputs": [
    {
     "name": "stdout",
     "output_type": "stream",
     "text": [
      "Base is: 12.0 height is: 10.0 area is: 60.0\n"
     ]
    }
   ],
   "source": [
    "print(\"Base is:\",b,\"height is:\",h,\"area is:\",area)"
   ]
  },
  {
   "cell_type": "markdown",
   "metadata": {},
   "source": [
    "#### By default the separator is space, we can use any separator using sep, \\n is to go to new line"
   ]
  },
  {
   "cell_type": "code",
   "execution_count": 7,
   "metadata": {},
   "outputs": [
    {
     "name": "stdout",
     "output_type": "stream",
     "text": [
      "Base is:**12.0**height is:**10.0**area is:**60.0\n"
     ]
    }
   ],
   "source": [
    "print(\"Base is:\",b,\"height is:\",h,\"area is:\",area, sep = \"**\")"
   ]
  },
  {
   "cell_type": "code",
   "execution_count": 8,
   "metadata": {},
   "outputs": [
    {
     "name": "stdout",
     "output_type": "stream",
     "text": [
      "Base is:\n",
      "12.0\n",
      "height is:\n",
      "10.0\n",
      "area is:\n",
      "60.0\n"
     ]
    }
   ],
   "source": [
    "print(\"Base is:\",b,\"height is:\",h,\"area is:\",area, sep = \"\\n\")"
   ]
  },
  {
   "cell_type": "code",
   "execution_count": 9,
   "metadata": {},
   "outputs": [
    {
     "name": "stdout",
     "output_type": "stream",
     "text": [
      "hello\n",
      "world\n"
     ]
    }
   ],
   "source": [
    "print(\"hello\")\n",
    "print(\"world\")"
   ]
  },
  {
   "cell_type": "code",
   "execution_count": 10,
   "metadata": {},
   "outputs": [
    {
     "name": "stdout",
     "output_type": "stream",
     "text": [
      "hello world\n"
     ]
    }
   ],
   "source": [
    "print(\"hello\", end = \" \")\n",
    "print(\"world\")"
   ]
  },
  {
   "cell_type": "code",
   "execution_count": 12,
   "metadata": {},
   "outputs": [
    {
     "data": {
      "text/plain": [
       "1.6666666666666667"
      ]
     },
     "execution_count": 12,
     "metadata": {},
     "output_type": "execute_result"
    }
   ],
   "source": [
    "a = 5/3\n",
    "a"
   ]
  },
  {
   "cell_type": "code",
   "execution_count": 11,
   "metadata": {
    "scrolled": true
   },
   "outputs": [
    {
     "name": "stdout",
     "output_type": "stream",
     "text": [
      "Value of a is:1.67\n"
     ]
    }
   ],
   "source": [
    "#here it displays only 2 decimal points\n",
    "a =5/3\n",
    "print(\"Value of a is:{0:0.2f}\".format(a))"
   ]
  },
  {
   "cell_type": "code",
   "execution_count": 16,
   "metadata": {},
   "outputs": [
    {
     "name": "stdout",
     "output_type": "stream",
     "text": [
      "Value of a is 1.67 and value of b is 0.571\n"
     ]
    }
   ],
   "source": [
    "#here \"{0:0.2f}\"zero stands for a and here \"{1:0.3}\", 1 stands for b.\n",
    "#format(a,b) here a is in 0th position and b is in 1st position.\n",
    "a =5/3\n",
    "b = 4/7\n",
    "print(\"Value of a is {0:0.2f} and value of b is {1:0.3}\".format(a,b))"
   ]
  },
  {
   "cell_type": "code",
   "execution_count": 17,
   "metadata": {},
   "outputs": [
    {
     "data": {
      "text/plain": [
       "'w'"
      ]
     },
     "execution_count": 17,
     "metadata": {},
     "output_type": "execute_result"
    }
   ],
   "source": [
    "max(\"hello world\") #highest asscii"
   ]
  },
  {
   "cell_type": "code",
   "execution_count": 18,
   "metadata": {},
   "outputs": [
    {
     "data": {
      "text/plain": [
       "66"
      ]
     },
     "execution_count": 18,
     "metadata": {},
     "output_type": "execute_result"
    }
   ],
   "source": [
    "max(23,34,-6,66)"
   ]
  },
  {
   "cell_type": "code",
   "execution_count": 19,
   "metadata": {},
   "outputs": [
    {
     "data": {
      "text/plain": [
       "5"
      ]
     },
     "execution_count": 19,
     "metadata": {},
     "output_type": "execute_result"
    }
   ],
   "source": [
    "len(\"hello\")"
   ]
  },
  {
   "cell_type": "markdown",
   "metadata": {},
   "source": [
    "# if condition"
   ]
  },
  {
   "cell_type": "code",
   "execution_count": 2,
   "metadata": {},
   "outputs": [
    {
     "name": "stdout",
     "output_type": "stream",
     "text": [
      "Enter a number-2\n",
      "Its a negative number\n",
      "over\n"
     ]
    }
   ],
   "source": [
    "x = int(input(\"Enter a number\"))\n",
    "if x<0:\n",
    "    print(\"Its a negative number\")\n",
    "print(\"over\")"
   ]
  },
  {
   "cell_type": "code",
   "execution_count": 1,
   "metadata": {},
   "outputs": [
    {
     "name": "stdout",
     "output_type": "stream",
     "text": [
      "Enter the marks43\n",
      "pass\n"
     ]
    }
   ],
   "source": [
    "#if else condition\n",
    "\n",
    "x = int(input(\"Enter the marks\"))\n",
    "if x < 40:\n",
    "    print(\"Fail\")\n",
    "else :\n",
    "    print(\"pass\")"
   ]
  },
  {
   "cell_type": "code",
   "execution_count": 6,
   "metadata": {},
   "outputs": [
    {
     "name": "stdout",
     "output_type": "stream",
     "text": [
      "Enter the marks79\n",
      "First class\n"
     ]
    }
   ],
   "source": [
    "#if and elif statement\n",
    "\n",
    "marks = float(input(\"Enter the marks\"))\n",
    "if marks>80:\n",
    "    print(\"FCD\")\n",
    "elif (marks >=60) and (marks <80):\n",
    "    print (\"First class\")\n",
    "elif (marks>=35) and (marks<60):\n",
    "    print(\"pass\")\n",
    "else:\n",
    "    print(\"fail\")"
   ]
  },
  {
   "cell_type": "code",
   "execution_count": 8,
   "metadata": {},
   "outputs": [
    {
     "name": "stdout",
     "output_type": "stream",
     "text": [
      "enter the marks71\n",
      "Distinction\n"
     ]
    }
   ],
   "source": [
    "#Nested Statements\n",
    "marks = float(input(\"enter the marks\"))\n",
    "if marks>=60:\n",
    "    if marks<70:\n",
    "        print(\"First Class\") #marks is greater than 60 and less than 70.\n",
    "    else:\n",
    "        print(\"Distinction\") #marks is greater than 60 and also greater than 70."
   ]
  },
  {
   "cell_type": "code",
   "execution_count": 10,
   "metadata": {},
   "outputs": [
    {
     "name": "stdout",
     "output_type": "stream",
     "text": [
      "Enter your name:Ram\n",
      "Hello Ram\n"
     ]
    }
   ],
   "source": [
    "name = input(\"Enter your name: \")\n",
    "print(\"Hello\",name)"
   ]
  },
  {
   "cell_type": "code",
   "execution_count": 13,
   "metadata": {},
   "outputs": [
    {
     "name": "stdout",
     "output_type": "stream",
     "text": [
      "Enter the hours: 3\n",
      "enter the payment you get for an hr: 23\n",
      "Gross pay is 69.0\n"
     ]
    }
   ],
   "source": [
    "#WAP to prompt the user for hours and rate per hour to compute gross pay \n",
    "hours = float(input(\"Enter the hours: \"))\n",
    "pay = float(input(\"enter the payment you get for an hr: \"))\n",
    "Gross_pay = hours * pay\n",
    "print(\"Gross pay is\",Gross_pay)"
   ]
  },
  {
   "cell_type": "code",
   "execution_count": 11,
   "metadata": {},
   "outputs": [
    {
     "name": "stdout",
     "output_type": "stream",
     "text": [
      "Enter the temperature in celsius0\n",
      "Fahrenheit temperature is 32.0\n"
     ]
    }
   ],
   "source": [
    "#celsius to fahrenheit\n",
    "celsius = float ( input(\"Enter the temperature in celsius: )\n",
    "f = celsius * (9/5) + 32\n",
    "print(\"Fahrenheit temperature is\", f)"
   ]
  },
  {
   "cell_type": "markdown",
   "metadata": {},
   "source": [
    "# Looping Structures"
   ]
  },
  {
   "cell_type": "code",
   "execution_count": 14,
   "metadata": {},
   "outputs": [
    {
     "name": "stdout",
     "output_type": "stream",
     "text": [
      "0\n",
      "1\n",
      "2\n",
      "3\n",
      "4\n",
      "Over\n"
     ]
    }
   ],
   "source": [
    "#While Loop\n",
    "\n",
    "x = 0 \n",
    "while x < 5:\n",
    "    print(x)\n",
    "    x= x+1\n",
    "print (\"Over\")"
   ]
  },
  {
   "cell_type": "code",
   "execution_count": 15,
   "metadata": {},
   "outputs": [
    {
     "name": "stdout",
     "output_type": "stream",
     "text": [
      "Enter the number: -1\n",
      "Enter the number: 5\n",
      "You have successfully entered a positve number\n"
     ]
    }
   ],
   "source": [
    "#Break statement is used to teminate the statement before meeting the condition that is given.\n",
    "while True: #This means its a boolean and this condition is always true and will continue running infinte number of times.(needs break to end the loop)\n",
    "    num = int(input(\"Enter the number: \"))\n",
    "    if num > 0 :\n",
    "        print (\"You have successfully entered a positve number\")\n",
    "        break\n",
    "        "
   ]
  },
  {
   "cell_type": "code",
   "execution_count": 11,
   "metadata": {},
   "outputs": [
    {
     "name": "stdout",
     "output_type": "stream",
     "text": [
      "Enter the number12\n",
      "Enter the number8\n",
      "Enter the number-1\n",
      "you have entered a negative number\n",
      "sum of all +ve numbers is 20\n"
     ]
    }
   ],
   "source": [
    "'''\n",
    "\n",
    "Keep reading numbers till you enter a negatuve number. Finf the sum of all the positve numbers and display the sum\n",
    "\n",
    "'''\n",
    "\n",
    "Sum = 0\n",
    "while True:\n",
    "    num = int(input(\"Enter the number\"))\n",
    "    if num < 0 :\n",
    "        print(\"you have entered a negative number\")\n",
    "        break\n",
    "    Sum = Sum +num\n",
    "print(\"sum of all +ve numbers is\",Sum)\n",
    "        "
   ]
  },
  {
   "cell_type": "markdown",
   "metadata": {},
   "source": [
    "# continue statement\n"
   ]
  },
  {
   "cell_type": "code",
   "execution_count": 14,
   "metadata": {
    "scrolled": true
   },
   "outputs": [
    {
     "name": "stdout",
     "output_type": "stream",
     "text": [
      "Enter number: 1\n",
      "You have entered  1\n",
      "Enter number: -2\n",
      "Enter number: 2\n",
      "You have entered  2\n",
      "Enter number: 2\n",
      "You have entered  2\n",
      "Enter number: 3\n",
      "You have entered  3\n",
      "Enter number: 4\n",
      "You have entered  4\n"
     ]
    }
   ],
   "source": [
    "# It will skip the further statements in the loop and continue with next iteration of the loop\n",
    "\n",
    "n = 1 \n",
    "while n<=5:\n",
    "    x = int(input(\"Enter number: \"))\n",
    "    if x< 0:\n",
    "        continue\n",
    "    print(\"You have entered \",x)\n",
    "    n = n+1\n",
    "    \n",
    "    "
   ]
  },
  {
   "cell_type": "markdown",
   "metadata": {},
   "source": [
    "# For Loop"
   ]
  },
  {
   "cell_type": "code",
   "execution_count": null,
   "metadata": {},
   "outputs": [],
   "source": [
    "#Syntax of range function: range(start,end,stride)\n"
   ]
  },
  {
   "cell_type": "markdown",
   "metadata": {},
   "source": [
    "## i can be a number or string. i takes the positional elements "
   ]
  },
  {
   "cell_type": "code",
   "execution_count": 15,
   "metadata": {},
   "outputs": [
    {
     "name": "stdout",
     "output_type": "stream",
     "text": [
      "0\n",
      "1\n",
      "2\n",
      "3\n",
      "4\n"
     ]
    }
   ],
   "source": [
    "for i in range(5):\n",
    "    print(i)"
   ]
  },
  {
   "cell_type": "code",
   "execution_count": 17,
   "metadata": {},
   "outputs": [
    {
     "name": "stdout",
     "output_type": "stream",
     "text": [
      "10\n",
      "12\n",
      "14\n",
      "16\n",
      "18\n"
     ]
    }
   ],
   "source": [
    "for i in range(10,20,2):\n",
    "    print(i)"
   ]
  },
  {
   "cell_type": "code",
   "execution_count": 18,
   "metadata": {},
   "outputs": [
    {
     "name": "stdout",
     "output_type": "stream",
     "text": [
      "20\n",
      "19\n",
      "18\n",
      "17\n",
      "16\n",
      "15\n",
      "14\n",
      "13\n",
      "12\n",
      "11\n"
     ]
    }
   ],
   "source": [
    "for i in range(20,10,-1):\n",
    "    print(i)"
   ]
  },
  {
   "cell_type": "code",
   "execution_count": 19,
   "metadata": {},
   "outputs": [
    {
     "name": "stdout",
     "output_type": "stream",
     "text": [
      "0 0\n",
      "0 1\n",
      "0 2\n",
      "0 3\n",
      "1 0\n",
      "1 1\n",
      "1 2\n",
      "1 3\n",
      "2 0\n",
      "2 1\n",
      "2 2\n",
      "2 3\n"
     ]
    }
   ],
   "source": [
    "#Nested loop\n",
    "for i in range(3):\n",
    "    for j in range(4):\n",
    "        print(i,j)"
   ]
  },
  {
   "cell_type": "markdown",
   "metadata": {},
   "source": [
    "# User Defined Functions"
   ]
  },
  {
   "cell_type": "code",
   "execution_count": 23,
   "metadata": {},
   "outputs": [
    {
     "name": "stdout",
     "output_type": "stream",
     "text": [
      "Illustration of user defined functions\n",
      "Function to say hello\n",
      "HELLO\n",
      "over\n",
      "----------\n",
      "Function to say hello\n",
      "HELLO\n"
     ]
    }
   ],
   "source": [
    "def fname():\n",
    "    print(\"Function to say hello\")\n",
    "    print(\"HELLO\")\n",
    "    \n",
    "print(\"Illustration of user defined functions\")\n",
    "fname() #Function calling\n",
    "print(\"over\")\n",
    "print(\"-\"*10)\n",
    "fname()"
   ]
  },
  {
   "cell_type": "code",
   "execution_count": 24,
   "metadata": {},
   "outputs": [
    {
     "name": "stdout",
     "output_type": "stream",
     "text": [
      "Example of function with arguments \n",
      "Inside test()\n",
      "Argument is hello\n",
      "Inside test()\n",
      "Argument is 20\n",
      "Over\n"
     ]
    }
   ],
   "source": [
    "def test(var):\n",
    "    print(\"Inside test()\")\n",
    "    print(\"Argument is\", var)\n",
    "    \n",
    "print(\"Example of function with arguments \")\n",
    "x = \"hello\"\n",
    "test(x)\n",
    "y = 20\n",
    "test(y)\n",
    "print(\"Over\")"
   ]
  },
  {
   "cell_type": "code",
   "execution_count": 25,
   "metadata": {},
   "outputs": [
    {
     "name": "stdout",
     "output_type": "stream",
     "text": [
      "Example of function with arguments \n",
      "Inside test()\n",
      "Argument is hellohellohello\n",
      "Inside test()\n",
      "Argument is 60\n",
      "Over\n"
     ]
    }
   ],
   "source": [
    "def test(var):\n",
    "    print(\"Inside test()\")\n",
    "    print(\"Argument is\", var)\n",
    "    \n",
    "print(\"Example of function with arguments \")\n",
    "x = \"hello\"\n",
    "test(x*3)\n",
    "y = 20\n",
    "test(y*3)\n",
    "print(\"Over\")"
   ]
  },
  {
   "cell_type": "code",
   "execution_count": 21,
   "metadata": {},
   "outputs": [
    {
     "name": "stdout",
     "output_type": "stream",
     "text": [
      "Enter the 1st number3\n",
      "Enter the 2nd number4\n",
      "12\n"
     ]
    }
   ],
   "source": [
    "#Function with return value\n",
    "\n",
    "def product(m,n):\n",
    "    p = m*n;\n",
    "    return p \n",
    "\n",
    "x = int(input(\"Enter the 1st number\"))\n",
    "y = int(input(\"Enter the 2nd number\"))\n",
    "\n",
    "pr = product(x,y) # Always LHS will hold the value that was returned after the fuction execution\n",
    "print(pr)"
   ]
  },
  {
   "cell_type": "markdown",
   "metadata": {},
   "source": [
    "# Multiple Assignment"
   ]
  },
  {
   "cell_type": "code",
   "execution_count": 26,
   "metadata": {},
   "outputs": [
    {
     "name": "stdout",
     "output_type": "stream",
     "text": [
      "10\n",
      "hello\n",
      "7.7\n"
     ]
    }
   ],
   "source": [
    "x,y,z =10,\"hello\",7.7\n",
    "print(x)\n",
    "print(y)\n",
    "print(z)"
   ]
  },
  {
   "cell_type": "markdown",
   "metadata": {},
   "source": [
    "# Recursive function"
   ]
  },
  {
   "cell_type": "code",
   "execution_count": 29,
   "metadata": {},
   "outputs": [
    {
     "name": "stdout",
     "output_type": "stream",
     "text": [
      "Enter a non negative integer: 5\n",
      "factorial of 5 is 120\n"
     ]
    }
   ],
   "source": [
    "# it should have atleast one exit condition otherwise it would run infinite number of times\n",
    "\n",
    "def f(m):\n",
    "    \n",
    "    if m==0:    # Exit condition for the recursive function\n",
    "        return(1)\n",
    "    else:\n",
    "        return(m*f(m-1))\n",
    "    \n",
    "    \n",
    "n = int(input(\"Enter a non negative integer: \"))\n",
    "\n",
    "if n<0:\n",
    "    print(\"Invalid input!!\")\n",
    "else:\n",
    "    fact = f(n)\n",
    "    print(\"factorial of\", n , \"is\" , fact)"
   ]
  },
  {
   "cell_type": "markdown",
   "metadata": {},
   "source": [
    "## A positive integer m is a sum of squares if it can be written as k+p where k>0, p>0 and both kand p are perfect squares.\n",
    "\n",
    "## (1) Write a Python function sumofsquares(m) that takes an integer m and returns True if m is a sum of squares and False otherwise.( If m is not positive, your function should return False)\n",
    "\n",
    "## Sample Output\n",
    "\n",
    "- sumofsquares(41) returns True\n",
    "- sumofsquares(30) returns False"
   ]
  },
  {
   "cell_type": "code",
   "execution_count": 252,
   "metadata": {},
   "outputs": [
    {
     "name": "stdout",
     "output_type": "stream",
     "text": [
      "Enter the number 82\n",
      "sum of squares 82 is True\n"
     ]
    }
   ],
   "source": [
    "def sumofsquares(m):\n",
    "    for k in range(1,m):\n",
    "            for p in range(1,m):\n",
    "                if((k**2+p**2)== m):\n",
    "                    return True\n",
    "    return False\n",
    "                   \n",
    "\n",
    "n = int(input(\"Enter the number \"))\n",
    "\n",
    "if n < 0:\n",
    "    print(\"False\")\n",
    "else:\n",
    "    square = sumofsquares(n)\n",
    "    print(\"sum of squares\", n , \"is\" , square)\n",
    "                   \n",
    "    "
   ]
  },
  {
   "cell_type": "code",
   "execution_count": 260,
   "metadata": {},
   "outputs": [
    {
     "name": "stdout",
     "output_type": "stream",
     "text": [
      "Enter the number 25\n",
      "True\n"
     ]
    }
   ],
   "source": [
    "# lectures Code\n",
    "import math\n",
    "def sumofsquares(m):\n",
    "    r = math.floor(math.sqrt(m))  #its done because if a number is equal to sum of square of 2 numbers, then \n",
    "                                #the 2 numbers will be less than square root of the number. math.floor will make it an integer\n",
    "    for k in range(1,r+1):\n",
    "            for p in range(r,0,-1):\n",
    "                if k**2+p**2== m:\n",
    "                    return True\n",
    "    return False\n",
    "                   \n",
    "\n",
    "n = int(input(\"Enter the number \"))\n",
    "print(sumofsquares(n))"
   ]
  },
  {
   "cell_type": "markdown",
   "metadata": {},
   "source": [
    "# Strings\n",
    "- String is a collection of characters enclosed within single quotes or double quotes.\n",
    "- Strings are immutable - cannot be modified"
   ]
  },
  {
   "cell_type": "code",
   "execution_count": 15,
   "metadata": {},
   "outputs": [
    {
     "name": "stdout",
     "output_type": "stream",
     "text": [
      "<class 'str'>\n"
     ]
    }
   ],
   "source": [
    "s = \"hello\"\n",
    "print(type(s))"
   ]
  },
  {
   "cell_type": "code",
   "execution_count": 16,
   "metadata": {},
   "outputs": [
    {
     "data": {
      "text/plain": [
       "'e'"
      ]
     },
     "execution_count": 16,
     "metadata": {},
     "output_type": "execute_result"
    }
   ],
   "source": [
    "s[1]"
   ]
  },
  {
   "cell_type": "code",
   "execution_count": 17,
   "metadata": {},
   "outputs": [
    {
     "data": {
      "text/plain": [
       "5"
      ]
     },
     "execution_count": 17,
     "metadata": {},
     "output_type": "execute_result"
    }
   ],
   "source": [
    "len(s)"
   ]
  },
  {
   "cell_type": "code",
   "execution_count": 18,
   "metadata": {},
   "outputs": [
    {
     "ename": "TypeError",
     "evalue": "'str' object does not support item assignment",
     "output_type": "error",
     "traceback": [
      "\u001b[1;31m---------------------------------------------------------------------------\u001b[0m",
      "\u001b[1;31mTypeError\u001b[0m                                 Traceback (most recent call last)",
      "\u001b[1;32m<ipython-input-18-f325253457ba>\u001b[0m in \u001b[0;36m<module>\u001b[1;34m\u001b[0m\n\u001b[1;32m----> 1\u001b[1;33m \u001b[0ms\u001b[0m\u001b[1;33m[\u001b[0m\u001b[1;36m1\u001b[0m\u001b[1;33m]\u001b[0m\u001b[1;33m=\u001b[0m\u001b[1;34m\"d\"\u001b[0m\u001b[1;33m\u001b[0m\u001b[1;33m\u001b[0m\u001b[0m\n\u001b[0m",
      "\u001b[1;31mTypeError\u001b[0m: 'str' object does not support item assignment"
     ]
    }
   ],
   "source": [
    "s[1]=\"d\" #Strings are immutable - cannot be modified. It gives error"
   ]
  },
  {
   "cell_type": "code",
   "execution_count": 22,
   "metadata": {},
   "outputs": [
    {
     "name": "stdout",
     "output_type": "stream",
     "text": [
      "o\n",
      "e\n"
     ]
    }
   ],
   "source": [
    "#Negative indexing - starts from the end of the string\n",
    "# Last character is indxed as -1\n",
    "var = \"Hello\"\n",
    "print(var[-1])\n",
    "print(var[-4])"
   ]
  },
  {
   "cell_type": "markdown",
   "metadata": {},
   "source": [
    "# String Slicing\n"
   ]
  },
  {
   "cell_type": "code",
   "execution_count": 23,
   "metadata": {},
   "outputs": [
    {
     "name": "stdout",
     "output_type": "stream",
     "text": [
      "st[0:5] is Hello\n",
      "st[:4] is Hell\n",
      "st[3:8] is lo Wo\n",
      "st[7:] is orld\n",
      "st[4:4] is  \n",
      "st[:] is Hello World\n"
     ]
    }
   ],
   "source": [
    "st = \"Hello World\"\n",
    "print(\"st[0:5] is\",st[0:5])\n",
    "print(\"st[:4] is\",st[:4])\n",
    "print(\"st[3:8] is\",st[3:8])\n",
    "print(\"st[7:] is\",st[7:])\n",
    "print(\"st[4:4] is \",st[4:4])\n",
    "print(\"st[:] is\",st[:])"
   ]
  },
  {
   "cell_type": "code",
   "execution_count": 35,
   "metadata": {},
   "outputs": [
    {
     "name": "stdout",
     "output_type": "stream",
     "text": [
      "eooa u\n"
     ]
    }
   ],
   "source": [
    "s = \"Hello how are you?\"\n",
    "print(s[1::3]) #print \"e\" then print again after 3 positions ie \"o\""
   ]
  },
  {
   "cell_type": "code",
   "execution_count": 37,
   "metadata": {},
   "outputs": [
    {
     "name": "stdout",
     "output_type": "stream",
     "text": [
      "dlroW olleH\n"
     ]
    }
   ],
   "source": [
    "st = \"Hello World\"\n",
    "print(st[::-1])"
   ]
  },
  {
   "cell_type": "code",
   "execution_count": 27,
   "metadata": {},
   "outputs": [
    {
     "data": {
      "text/plain": [
       "'Helto World'"
      ]
     },
     "execution_count": 27,
     "metadata": {},
     "output_type": "execute_result"
    }
   ],
   "source": [
    "#replace the l at 3 with t\n",
    "st = \"Hello World\"\n",
    "st1 = st[:3]+\"t\"+st[4:]\n",
    "st1"
   ]
  },
  {
   "cell_type": "code",
   "execution_count": null,
   "metadata": {},
   "outputs": [],
   "source": []
  },
  {
   "cell_type": "markdown",
   "metadata": {},
   "source": [
    "# Built in Method of Strings\n",
    "- len(s)\n",
    "- capitalize(s)\n",
    "- s.upper()\n",
    "- s.lower()\n",
    "- s.find()\n",
    "- s.startswith()\n",
    "- s.count()"
   ]
  },
  {
   "cell_type": "code",
   "execution_count": 28,
   "metadata": {},
   "outputs": [
    {
     "data": {
      "text/plain": [
       "['__add__',\n",
       " '__class__',\n",
       " '__contains__',\n",
       " '__delattr__',\n",
       " '__dir__',\n",
       " '__doc__',\n",
       " '__eq__',\n",
       " '__format__',\n",
       " '__ge__',\n",
       " '__getattribute__',\n",
       " '__getitem__',\n",
       " '__getnewargs__',\n",
       " '__gt__',\n",
       " '__hash__',\n",
       " '__init__',\n",
       " '__init_subclass__',\n",
       " '__iter__',\n",
       " '__le__',\n",
       " '__len__',\n",
       " '__lt__',\n",
       " '__mod__',\n",
       " '__mul__',\n",
       " '__ne__',\n",
       " '__new__',\n",
       " '__reduce__',\n",
       " '__reduce_ex__',\n",
       " '__repr__',\n",
       " '__rmod__',\n",
       " '__rmul__',\n",
       " '__setattr__',\n",
       " '__sizeof__',\n",
       " '__str__',\n",
       " '__subclasshook__',\n",
       " 'capitalize',\n",
       " 'casefold',\n",
       " 'center',\n",
       " 'count',\n",
       " 'encode',\n",
       " 'endswith',\n",
       " 'expandtabs',\n",
       " 'find',\n",
       " 'format',\n",
       " 'format_map',\n",
       " 'index',\n",
       " 'isalnum',\n",
       " 'isalpha',\n",
       " 'isascii',\n",
       " 'isdecimal',\n",
       " 'isdigit',\n",
       " 'isidentifier',\n",
       " 'islower',\n",
       " 'isnumeric',\n",
       " 'isprintable',\n",
       " 'isspace',\n",
       " 'istitle',\n",
       " 'isupper',\n",
       " 'join',\n",
       " 'ljust',\n",
       " 'lower',\n",
       " 'lstrip',\n",
       " 'maketrans',\n",
       " 'partition',\n",
       " 'replace',\n",
       " 'rfind',\n",
       " 'rindex',\n",
       " 'rjust',\n",
       " 'rpartition',\n",
       " 'rsplit',\n",
       " 'rstrip',\n",
       " 'split',\n",
       " 'splitlines',\n",
       " 'startswith',\n",
       " 'strip',\n",
       " 'swapcase',\n",
       " 'title',\n",
       " 'translate',\n",
       " 'upper',\n",
       " 'zfill']"
      ]
     },
     "execution_count": 28,
     "metadata": {},
     "output_type": "execute_result"
    }
   ],
   "source": [
    "dir(str)"
   ]
  },
  {
   "cell_type": "code",
   "execution_count": null,
   "metadata": {},
   "outputs": [],
   "source": [
    "# Len is not a function of string. we dont use string name.len()"
   ]
  },
  {
   "cell_type": "code",
   "execution_count": 29,
   "metadata": {},
   "outputs": [],
   "source": [
    "# ?str.swapcase is used to get the details of the funtions"
   ]
  },
  {
   "cell_type": "code",
   "execution_count": 30,
   "metadata": {},
   "outputs": [
    {
     "data": {
      "text/plain": [
       "'Hello world'"
      ]
     },
     "execution_count": 30,
     "metadata": {},
     "output_type": "execute_result"
    }
   ],
   "source": [
    "str.capitalize(\"hello world\")"
   ]
  },
  {
   "cell_type": "code",
   "execution_count": 32,
   "metadata": {},
   "outputs": [
    {
     "data": {
      "text/plain": [
       "'Hello world'"
      ]
     },
     "execution_count": 32,
     "metadata": {},
     "output_type": "execute_result"
    }
   ],
   "source": [
    "str.capitalize(\"hello WORld\")"
   ]
  },
  {
   "cell_type": "code",
   "execution_count": 58,
   "metadata": {},
   "outputs": [
    {
     "name": "stdout",
     "output_type": "stream",
     "text": [
      "HELLO WORLD\n"
     ]
    }
   ],
   "source": [
    "st = \"Hello WORld\"\n",
    "st1 = st.upper()\n",
    "print(st1)"
   ]
  },
  {
   "cell_type": "code",
   "execution_count": 53,
   "metadata": {},
   "outputs": [],
   "source": [
    "?st.partition"
   ]
  },
  {
   "cell_type": "code",
   "execution_count": 1,
   "metadata": {},
   "outputs": [
    {
     "name": "stdout",
     "output_type": "stream",
     "text": [
      "4\n"
     ]
    }
   ],
   "source": [
    "# find() function\n",
    "# it will print the first occurence\n",
    "\n",
    "st = \"hello world\"\n",
    "print(st.find(\"o\"))"
   ]
  },
  {
   "cell_type": "code",
   "execution_count": 2,
   "metadata": {},
   "outputs": [
    {
     "name": "stdout",
     "output_type": "stream",
     "text": [
      "10\n"
     ]
    }
   ],
   "source": [
    "#displays the position where \"ar\" are together\n",
    "\n",
    "st = \"Hello how are you?\"\n",
    "i = st.find('ar')\n",
    "print(i)"
   ]
  },
  {
   "cell_type": "code",
   "execution_count": 3,
   "metadata": {},
   "outputs": [
    {
     "name": "stdout",
     "output_type": "stream",
     "text": [
      "-1\n"
     ]
    }
   ],
   "source": [
    "# if the element is not found it will display -1\n",
    "\n",
    "st = \"Hello how are you?\"\n",
    "i = st.find('x')\n",
    "print(i)"
   ]
  },
  {
   "cell_type": "code",
   "execution_count": 4,
   "metadata": {},
   "outputs": [
    {
     "name": "stdout",
     "output_type": "stream",
     "text": [
      "17\n"
     ]
    }
   ],
   "source": [
    "# find() within range\n",
    "\n",
    "st = \"calender of Feb. cal of march\"\n",
    "i = st.find(\"cal\",10,20) # starting position is 10 and ending position is 19\n",
    "print(i)"
   ]
  },
  {
   "cell_type": "code",
   "execution_count": 8,
   "metadata": {},
   "outputs": [
    {
     "name": "stdout",
     "output_type": "stream",
     "text": [
      "-1\n"
     ]
    }
   ],
   "source": [
    "i = st.find(\"cal\",10,19)  # starting position is 10 and ending position is 18\n",
    "print(i)"
   ]
  },
  {
   "cell_type": "code",
   "execution_count": 7,
   "metadata": {},
   "outputs": [
    {
     "name": "stdout",
     "output_type": "stream",
     "text": [
      "-1\n"
     ]
    }
   ],
   "source": [
    "i = st.find(\"cal\",10,15) # starting position is 10 and ending position is 14\n",
    "print(i) # cant find so the ans will be -1."
   ]
  },
  {
   "cell_type": "code",
   "execution_count": 10,
   "metadata": {},
   "outputs": [
    {
     "data": {
      "text/plain": [
       "'h'"
      ]
     },
     "execution_count": 10,
     "metadata": {},
     "output_type": "execute_result"
    }
   ],
   "source": [
    "st[-1] # just for accessing the last position. (Note: -1 wont be displayed to show the last position charater)"
   ]
  },
  {
   "cell_type": "code",
   "execution_count": 11,
   "metadata": {},
   "outputs": [
    {
     "name": "stdout",
     "output_type": "stream",
     "text": [
      "     hello world    \n",
      "hello world\n"
     ]
    }
   ],
   "source": [
    "# strip() USED TO REMOVE EXTRA CHARACTERS AT THE BEGINNING AND THE END OF THE STRING\n",
    "\n",
    "st = \"     hello world    \"\n",
    "print(st)\n",
    "st1 = st.strip() #by default there will be space\n",
    "print(st1)\n"
   ]
  },
  {
   "cell_type": "code",
   "execution_count": 16,
   "metadata": {},
   "outputs": [
    {
     "name": "stdout",
     "output_type": "stream",
     "text": [
      "#$#hello how are you##$#$#\n",
      "ello how are you\n"
     ]
    }
   ],
   "source": [
    "st = \"$$$$#$#hello how are you##$#$#\"\n",
    "st1 = st.strip(\"$\")\n",
    "print(st1)\n",
    "st2 = st.strip(\"$#h\")\n",
    "print(st2)"
   ]
  },
  {
   "cell_type": "markdown",
   "metadata": {},
   "source": [
    "# Doesnt work\n"
   ]
  },
  {
   "cell_type": "code",
   "execution_count": 15,
   "metadata": {},
   "outputs": [
    {
     "name": "stdout",
     "output_type": "stream",
     "text": [
      "$$$$#$#hello how are you##$#$\n"
     ]
    }
   ],
   "source": [
    "st = \"$$$$#$#hello how are you##$#$#\"\n",
    "st1 = st.strip((\"$\" and \"#\"))\n",
    "print(st1)"
   ]
  },
  {
   "cell_type": "markdown",
   "metadata": {},
   "source": [
    "#### lstrip and rstrip search"
   ]
  },
  {
   "cell_type": "code",
   "execution_count": 4,
   "metadata": {},
   "outputs": [
    {
     "data": {
      "text/plain": [
       "False"
      ]
     },
     "execution_count": 4,
     "metadata": {},
     "output_type": "execute_result"
    }
   ],
   "source": [
    "# s.startswith()(prefix,[,start[,end]])\n",
    "# return True if ths starts with the specified prefix\n",
    "# False otherwise\n",
    "# with optional start, test s beginning at that position\n",
    "# with optional end, stop comparing s at that position\n",
    "\n",
    "st = \" hellow world\"\n",
    "st.startswith(\"e\")\n"
   ]
  },
  {
   "cell_type": "code",
   "execution_count": 5,
   "metadata": {},
   "outputs": [
    {
     "data": {
      "text/plain": [
       "False"
      ]
     },
     "execution_count": 5,
     "metadata": {},
     "output_type": "execute_result"
    }
   ],
   "source": [
    "st.startswith(\"world\",7)"
   ]
  },
  {
   "cell_type": "code",
   "execution_count": 6,
   "metadata": {},
   "outputs": [
    {
     "data": {
      "text/plain": [
       "True"
      ]
     },
     "execution_count": 6,
     "metadata": {},
     "output_type": "execute_result"
    }
   ],
   "source": [
    "st.startswith(\"world\",8)"
   ]
  },
  {
   "cell_type": "code",
   "execution_count": 7,
   "metadata": {},
   "outputs": [
    {
     "data": {
      "text/plain": [
       "False"
      ]
     },
     "execution_count": 7,
     "metadata": {},
     "output_type": "execute_result"
    }
   ],
   "source": [
    "st = \"xyz abc pqr av mn gh\"\n",
    "st.startswith(\"pqr av mn\",8,12)"
   ]
  },
  {
   "cell_type": "code",
   "execution_count": 8,
   "metadata": {},
   "outputs": [
    {
     "data": {
      "text/plain": [
       "True"
      ]
     },
     "execution_count": 8,
     "metadata": {},
     "output_type": "execute_result"
    }
   ],
   "source": [
    "st.startswith(\"pqr av mn\",8,18)"
   ]
  },
  {
   "cell_type": "code",
   "execution_count": 23,
   "metadata": {},
   "outputs": [
    {
     "data": {
      "text/plain": [
       "True"
      ]
     },
     "execution_count": 23,
     "metadata": {},
     "output_type": "execute_result"
    }
   ],
   "source": [
    "st = \"Hello world\"\n",
    "st.startswith(\"He\")"
   ]
  },
  {
   "cell_type": "markdown",
   "metadata": {},
   "source": [
    "### IMPORTANT ( CASE SENSITIVE  AND TAKES ASCII VALUE)"
   ]
  },
  {
   "cell_type": "code",
   "execution_count": 24,
   "metadata": {},
   "outputs": [
    {
     "data": {
      "text/plain": [
       "False"
      ]
     },
     "execution_count": 24,
     "metadata": {},
     "output_type": "execute_result"
    }
   ],
   "source": [
    "st = \"Hello world\"\n",
    "st.startswith(\"he\")"
   ]
  },
  {
   "cell_type": "markdown",
   "metadata": {},
   "source": [
    "### Used alternatively"
   ]
  },
  {
   "cell_type": "code",
   "execution_count": 25,
   "metadata": {},
   "outputs": [
    {
     "data": {
      "text/plain": [
       "True"
      ]
     },
     "execution_count": 25,
     "metadata": {},
     "output_type": "execute_result"
    }
   ],
   "source": [
    "st = \"Hello world\"\n",
    "st.lower().startswith(\"he\")"
   ]
  },
  {
   "cell_type": "code",
   "execution_count": 32,
   "metadata": {},
   "outputs": [
    {
     "data": {
      "text/plain": [
       "True"
      ]
     },
     "execution_count": 32,
     "metadata": {},
     "output_type": "execute_result"
    }
   ],
   "source": [
    "st = \" ###$Hello world\"\n",
    "st.lower().strip(\" #$\").startswith(\"he\")"
   ]
  },
  {
   "cell_type": "code",
   "execution_count": 33,
   "metadata": {},
   "outputs": [
    {
     "ename": "AttributeError",
     "evalue": "'bool' object has no attribute 'lower'",
     "output_type": "error",
     "traceback": [
      "\u001b[1;31m---------------------------------------------------------------------------\u001b[0m",
      "\u001b[1;31mAttributeError\u001b[0m                            Traceback (most recent call last)",
      "\u001b[1;32m<ipython-input-33-74514ecd0437>\u001b[0m in \u001b[0;36m<module>\u001b[1;34m\u001b[0m\n\u001b[0;32m      1\u001b[0m \u001b[0mst\u001b[0m \u001b[1;33m=\u001b[0m \u001b[1;34m\" ###$Hello world\"\u001b[0m\u001b[1;33m\u001b[0m\u001b[1;33m\u001b[0m\u001b[0m\n\u001b[1;32m----> 2\u001b[1;33m \u001b[0mst\u001b[0m\u001b[1;33m.\u001b[0m\u001b[0mstartswith\u001b[0m\u001b[1;33m(\u001b[0m\u001b[1;34m\"he\"\u001b[0m\u001b[1;33m)\u001b[0m\u001b[1;33m.\u001b[0m\u001b[0mlower\u001b[0m\u001b[1;33m(\u001b[0m\u001b[1;33m)\u001b[0m\u001b[1;33m\u001b[0m\u001b[1;33m\u001b[0m\u001b[0m\n\u001b[0m",
      "\u001b[1;31mAttributeError\u001b[0m: 'bool' object has no attribute 'lower'"
     ]
    }
   ],
   "source": [
    "#error because startswith(\"he\") gives Boolean (True or False)\n",
    "st = \" ###$Hello world\"\n",
    "st.startswith(\"he\").lower()"
   ]
  },
  {
   "cell_type": "code",
   "execution_count": 29,
   "metadata": {},
   "outputs": [
    {
     "data": {
      "text/plain": [
       "2"
      ]
     },
     "execution_count": 29,
     "metadata": {},
     "output_type": "execute_result"
    }
   ],
   "source": [
    "#count() - Finds Frequency of substrings inside a string\n",
    "\n",
    "st = \"hello how are you? how abot you\"\n",
    "st.count(\"how\")"
   ]
  },
  {
   "cell_type": "code",
   "execution_count": 30,
   "metadata": {},
   "outputs": [
    {
     "data": {
      "text/plain": [
       "1"
      ]
     },
     "execution_count": 30,
     "metadata": {},
     "output_type": "execute_result"
    }
   ],
   "source": [
    "st.count(\"how\",3,10)"
   ]
  },
  {
   "cell_type": "markdown",
   "metadata": {},
   "source": [
    "# 1 . Program to identify if a word is a palindrome"
   ]
  },
  {
   "cell_type": "code",
   "execution_count": 62,
   "metadata": {},
   "outputs": [
    {
     "name": "stdout",
     "output_type": "stream",
     "text": [
      "enter a word madam\n",
      "word is palindrome\n"
     ]
    }
   ],
   "source": [
    "word = input(\"enter a word \")\n",
    "#print(word)\n",
    "#print(word[::-1])\n",
    "if (word == word[::-1]):\n",
    "    print(\"word is palindrome\")\n",
    "else:\n",
    "    print(\"not palindrome\")"
   ]
  },
  {
   "cell_type": "markdown",
   "metadata": {},
   "source": [
    "## 1. Program to identify which words that are palindrome in a given string"
   ]
  },
  {
   "cell_type": "code",
   "execution_count": 122,
   "metadata": {},
   "outputs": [
    {
     "name": "stdout",
     "output_type": "stream",
     "text": [
      "enter a word hello madam\n",
      "['hello', 'madam']\n",
      "hello\n",
      "word not palindrome\n",
      "----------\n",
      "madam\n",
      "word is palindrome\n",
      "----------\n"
     ]
    }
   ],
   "source": [
    "word = input(\"enter a word \")\n",
    "s = word.split(\" \") # Splits the word at where space is given and makes a list or words.\n",
    "print(s) #prints the list of words\n",
    "for i in range(len(s)):\n",
    "    if (s[i]== s[i][::-1]):\n",
    "        print(s[i])\n",
    "        print(\"word is palindrome\")\n",
    "        print(\"-\"*10)\n",
    "    else:\n",
    "        print(s[i])\n",
    "        print(\"word not palindrome\")\n",
    "        print(\"-\"*10)\n",
    "\n",
    "\n"
   ]
  },
  {
   "cell_type": "code",
   "execution_count": 120,
   "metadata": {},
   "outputs": [
    {
     "name": "stdout",
     "output_type": "stream",
     "text": [
      "enter a word hello madam\n",
      "['hello', 'madam']\n",
      "hello\n",
      "word not palindrome\n",
      "----------\n",
      "madam\n",
      "word is palindrome\n",
      "----------\n"
     ]
    }
   ],
   "source": [
    "#Second method\n",
    "word = input(\"enter a word \")\n",
    "s = word.split(\" \")# Splits the word at where space is given and makes a list or words.\n",
    "print(s) #prints the list of words\n",
    "for i in s:\n",
    "        if (i== i[::-1]):\n",
    "            print(i)\n",
    "            print(\"word is palindrome\")\n",
    "            print(\"-\"*10)\n",
    "        else:\n",
    "            print(i)\n",
    "            print(\"word not palindrome\")\n",
    "            print(\"-\"*10)"
   ]
  },
  {
   "cell_type": "code",
   "execution_count": 261,
   "metadata": {},
   "outputs": [
    {
     "name": "stdout",
     "output_type": "stream",
     "text": [
      "enter a word hello madam\n",
      "hello\n",
      "word not palindrome\n",
      "----------\n",
      "madam\n",
      "word is palindrome\n",
      "----------\n"
     ]
    }
   ],
   "source": [
    "word = input(\"enter a word \")\n",
    "for i in word.split():\n",
    "    if (i== i[::-1]):\n",
    "        print(i)\n",
    "        print(\"word is palindrome\")\n",
    "        print(\"-\"*10)\n",
    "    else:\n",
    "        print(i)\n",
    "        print(\"word not palindrome\")\n",
    "        print(\"-\"*10)"
   ]
  },
  {
   "cell_type": "code",
   "execution_count": 109,
   "metadata": {},
   "outputs": [
    {
     "data": {
      "text/plain": [
       "11"
      ]
     },
     "execution_count": 109,
     "metadata": {},
     "output_type": "execute_result"
    }
   ],
   "source": [
    "len(\"hello world\")"
   ]
  },
  {
   "cell_type": "markdown",
   "metadata": {},
   "source": [
    "## 2. Program to get a string made of first 2 and last 2 characters from a given string"
   ]
  },
  {
   "cell_type": "code",
   "execution_count": 267,
   "metadata": {},
   "outputs": [
    {
     "name": "stdout",
     "output_type": "stream",
     "text": [
      "Enter a string: abc\n",
      "abbc\n"
     ]
    }
   ],
   "source": [
    "strg = input(\"Enter a string: \")\n",
    "length = len(strg) # Finds the length of the string\n",
    "if length <=2:\n",
    "    print(strg)\n",
    "else:\n",
    "    new_strg = strg[:2]+strg[-2:]\n",
    "    print(new_strg)"
   ]
  },
  {
   "cell_type": "code",
   "execution_count": 134,
   "metadata": {},
   "outputs": [
    {
     "name": "stdout",
     "output_type": "stream",
     "text": [
      "Enter a string: hello hi\n",
      "hehi\n"
     ]
    }
   ],
   "source": [
    "#Second method\n",
    "strg = input(\"Enter a string: \")\n",
    "length = len(strg) # Finds the length of the string\n",
    "if length > 2:\n",
    "    new_strg = strg[:2]+strg[-2:]\n",
    "    print(new_strg)\n",
    "else:\n",
    "    print(strg)"
   ]
  },
  {
   "cell_type": "code",
   "execution_count": 269,
   "metadata": {},
   "outputs": [
    {
     "name": "stdout",
     "output_type": "stream",
     "text": [
      "Enter a string: hello world\n",
      "held\n"
     ]
    }
   ],
   "source": [
    "# Lectures code\n",
    "strg = input(\"Enter a string: \")\n",
    "if len(strg) <=2:\n",
    "      print(strg)\n",
    "else:\n",
    "    print(strg[:2]+strg[-2:])\n",
    "    "
   ]
  },
  {
   "cell_type": "markdown",
   "metadata": {},
   "source": [
    "## 3. Program to return a string without spaces"
   ]
  },
  {
   "cell_type": "code",
   "execution_count": 132,
   "metadata": {},
   "outputs": [
    {
     "data": {
      "text/plain": [
       "'Hellohowareyou'"
      ]
     },
     "execution_count": 132,
     "metadata": {},
     "output_type": "execute_result"
    }
   ],
   "source": [
    "s= \"Hello how are you\"\n",
    "s.replace(\" \",\"\") # Replace space with no space.\n",
    "\n"
   ]
  },
  {
   "cell_type": "code",
   "execution_count": 265,
   "metadata": {},
   "outputs": [
    {
     "name": "stdout",
     "output_type": "stream",
     "text": [
      "Hellohowareyou"
     ]
    }
   ],
   "source": [
    "#Second method\n",
    "s= \"Hello how are you\"\n",
    "leng = len(s)\n",
    "for i in range(leng):\n",
    "    if(s[i]!=\" \"):  # if s[i] is not equal to space, then print s[i]. ie. prints all characters expect space.\n",
    "        print(s[i],end=\"\") #by default end will be equal to next line. So change end = \"\"\n"
   ]
  },
  {
   "cell_type": "code",
   "execution_count": 242,
   "metadata": {},
   "outputs": [
    {
     "name": "stdout",
     "output_type": "stream",
     "text": [
      "Hellohowareyou"
     ]
    }
   ],
   "source": [
    "# Using a function\n",
    "def remove_space(s):\n",
    "    leng = len(s)\n",
    "    for i in range(leng):\n",
    "        if(s[i]!=\" \"):  # if s[i] is not equal to space, then print s[i]. ie. prints all characters expect space. \n",
    "            x = s[i]\n",
    "            print(s[i],end=\"\")\n",
    "a= \"Hello how are you\"\n",
    "remove_space(a)"
   ]
  },
  {
   "cell_type": "markdown",
   "metadata": {},
   "source": [
    "## 4. Program to characters which have odd index value\n"
   ]
  },
  {
   "cell_type": "code",
   "execution_count": 143,
   "metadata": {},
   "outputs": [
    {
     "name": "stdout",
     "output_type": "stream",
     "text": [
      "Enter a string: hello\n",
      "hlo"
     ]
    }
   ],
   "source": [
    "s = input(\"Enter a string: \")\n",
    "length = len(s)\n",
    "for i in range(length):\n",
    "    if(i%2==0):\n",
    "        print(s[i],end='') #by default end will be equal to next line. So change end = \"\""
   ]
  },
  {
   "cell_type": "code",
   "execution_count": 270,
   "metadata": {},
   "outputs": [
    {
     "name": "stdout",
     "output_type": "stream",
     "text": [
      "Enter a string: hello\n",
      "hlo\n"
     ]
    }
   ],
   "source": [
    "#Lectures Code\n",
    "s = input(\"Enter a string: \")\n",
    "s1 = s[0::2]\n",
    "print(s1)"
   ]
  },
  {
   "cell_type": "markdown",
   "metadata": {},
   "source": [
    "## 5. Program to change a given string to new string where 1st and last char is exchanged"
   ]
  },
  {
   "cell_type": "code",
   "execution_count": 33,
   "metadata": {
    "scrolled": true
   },
   "outputs": [
    {
     "name": "stdout",
     "output_type": "stream",
     "text": [
      "Enter a stringhello\n",
      "oellh\n"
     ]
    }
   ],
   "source": [
    "s = input(\"Enter a string\")\n",
    "new_s = s[-1]+s[1:-1]+s[0]\n",
    "print(new_s)"
   ]
  },
  {
   "cell_type": "markdown",
   "metadata": {},
   "source": [
    "## 1. Program to add \"ing\" and if the string has \"ing\" then add \"ly\""
   ]
  },
  {
   "cell_type": "code",
   "execution_count": 174,
   "metadata": {},
   "outputs": [
    {
     "name": "stdout",
     "output_type": "stream",
     "text": [
      "Enter the String: hello\n",
      "helloing\n"
     ]
    }
   ],
   "source": [
    "s = input(\"Enter the String: \")\n",
    "length = len(s)\n",
    "if length<3:\n",
    "    print(s)\n",
    "elif(s[-3:] == \"ing\"):\n",
    "    print(s+\"ly\")\n",
    "else:\n",
    "    print(s+\"ing\")"
   ]
  },
  {
   "cell_type": "markdown",
   "metadata": {},
   "source": [
    "## 2. Program to find \"not\" and \"poor\" from a string and return the whole \"not\"....\"poor\" with \"good\""
   ]
  },
  {
   "cell_type": "code",
   "execution_count": 22,
   "metadata": {},
   "outputs": [
    {
     "name": "stdout",
     "output_type": "stream",
     "text": [
      "Enter the string: hey not huh hjn hje poor bj\n",
      "4\n",
      "20\n",
      "hey good bj\n"
     ]
    }
   ],
   "source": [
    "s = input(\"Enter the string: \")\n",
    "nots=s.find(\"not\")\n",
    "poors = s.find(\"poor\")\n",
    "if(nots < poors):\n",
    "    news = s[:nots]+\"good\"+s[poors+4:]\n",
    "    print(news)\n",
    "    "
   ]
  },
  {
   "cell_type": "markdown",
   "metadata": {},
   "source": [
    "## Program: Consider a string in the following format and extract only the domain name. \"From chetanahegde@ieee.org Wed Feb 21 09:14:16 2018\"\n"
   ]
  },
  {
   "cell_type": "code",
   "execution_count": 272,
   "metadata": {},
   "outputs": [
    {
     "name": "stdout",
     "output_type": "stream",
     "text": [
      "Position of @ is 17\n",
      "Position of space after @ is 26\n",
      "ieee.org\n"
     ]
    }
   ],
   "source": [
    "st = \"From chetanahegde@ieee.org Wed Feb 21 09:14:16 2018\"\n",
    "atpos = st.find(\"@\")\n",
    "print(\"Position of @ is\",atpos)\n",
    "spacepos = st.find(\" \",atpos)\n",
    "print(\"Position of space after @ is\",spacepos)\n",
    "domain = st[atpos+1:spacepos]\n",
    "print(domain)"
   ]
  },
  {
   "cell_type": "markdown",
   "metadata": {},
   "source": [
    "# <font color = \"red\"> List </font>\n",
    "- List is a data structure in python.\n",
    "- List are mutable(ie. values can be changed) and strings are imutable(ie. values cannot be changed)"
   ]
  },
  {
   "cell_type": "code",
   "execution_count": 84,
   "metadata": {},
   "outputs": [],
   "source": [
    "ls1 = []  #empty list"
   ]
  },
  {
   "cell_type": "code",
   "execution_count": 85,
   "metadata": {},
   "outputs": [
    {
     "name": "stdout",
     "output_type": "stream",
     "text": [
      "<class 'list'>\n"
     ]
    }
   ],
   "source": [
    "print(type(ls1))"
   ]
  },
  {
   "cell_type": "code",
   "execution_count": 86,
   "metadata": {},
   "outputs": [
    {
     "name": "stdout",
     "output_type": "stream",
     "text": [
      "[10, 20, -4, 12]\n",
      "type is:  <class 'list'>\n"
     ]
    }
   ],
   "source": [
    "ls2 = [10,20,-4,12]\n",
    "print(ls2)\n",
    "print(\"type is: \", type(ls2))"
   ]
  },
  {
   "cell_type": "code",
   "execution_count": 87,
   "metadata": {},
   "outputs": [
    {
     "name": "stdout",
     "output_type": "stream",
     "text": [
      "[3.5, 4, 'hi', [10, 'hello']]\n"
     ]
    }
   ],
   "source": [
    "ls3 = [3.5, 4, \"hi\", [10,\"hello\"]]\n",
    "print(ls3) #print whole list"
   ]
  },
  {
   "cell_type": "code",
   "execution_count": 88,
   "metadata": {},
   "outputs": [
    {
     "name": "stdout",
     "output_type": "stream",
     "text": [
      "3.5\n"
     ]
    }
   ],
   "source": [
    "print(ls3[0]) #print 1st element of a list"
   ]
  },
  {
   "cell_type": "code",
   "execution_count": 89,
   "metadata": {},
   "outputs": [
    {
     "name": "stdout",
     "output_type": "stream",
     "text": [
      "hi\n"
     ]
    }
   ],
   "source": [
    "print(ls3[2]) #print 3rd element"
   ]
  },
  {
   "cell_type": "code",
   "execution_count": 92,
   "metadata": {},
   "outputs": [
    {
     "name": "stdout",
     "output_type": "stream",
     "text": [
      "[10, 'hello']\n"
     ]
    }
   ],
   "source": [
    "print(ls3[3]) #print 4th element"
   ]
  },
  {
   "cell_type": "code",
   "execution_count": 94,
   "metadata": {},
   "outputs": [
    {
     "name": "stdout",
     "output_type": "stream",
     "text": [
      "10\n"
     ]
    }
   ],
   "source": [
    "print(ls3[3][0]) #prints the 1st element of inner list"
   ]
  },
  {
   "cell_type": "code",
   "execution_count": 95,
   "metadata": {},
   "outputs": [
    {
     "name": "stdout",
     "output_type": "stream",
     "text": [
      "hello\n"
     ]
    }
   ],
   "source": [
    "print(ls3[3][1]) #prints the 2st element of inner list"
   ]
  },
  {
   "cell_type": "code",
   "execution_count": 98,
   "metadata": {},
   "outputs": [
    {
     "name": "stdout",
     "output_type": "stream",
     "text": [
      "h\n"
     ]
    }
   ],
   "source": [
    "print(ls3[3][1][0]) #prints the 1st character of the string \"hello\" of inner list"
   ]
  },
  {
   "cell_type": "code",
   "execution_count": 99,
   "metadata": {},
   "outputs": [
    {
     "name": "stdout",
     "output_type": "stream",
     "text": [
      "[1, 2, 3, 4, 5, 6, 7, 8, 9, 10]\n"
     ]
    }
   ],
   "source": [
    "ls = list(range(1,11))\n",
    "print(ls)"
   ]
  },
  {
   "cell_type": "code",
   "execution_count": 100,
   "metadata": {},
   "outputs": [
    {
     "name": "stdout",
     "output_type": "stream",
     "text": [
      "[1, 3, 5, 7, 9, 11, 13, 15, 17, 19]\n"
     ]
    }
   ],
   "source": [
    "ls = list(range(1,20,2))\n",
    "print(ls)"
   ]
  },
  {
   "cell_type": "markdown",
   "metadata": {},
   "source": [
    "### <font color = \"red\">** Read a list of numbers **</font>"
   ]
  },
  {
   "cell_type": "code",
   "execution_count": 1,
   "metadata": {},
   "outputs": [
    {
     "name": "stdout",
     "output_type": "stream",
     "text": [
      "2 2 2 3 3 \n",
      "[2, 2, 2, 3, 3]\n"
     ]
    }
   ],
   "source": [
    "s = input()\n",
    "ls = [int(x) for x in (s.split())]\n",
    "print(ls)"
   ]
  },
  {
   "cell_type": "code",
   "execution_count": 18,
   "metadata": {},
   "outputs": [
    {
     "name": "stdout",
     "output_type": "stream",
     "text": [
      "2 2 2 3 3 \n",
      "[2, 2, 2, 3, 3]\n"
     ]
    }
   ],
   "source": [
    "# OR\n",
    "x = input()\n",
    "y = []\n",
    "for i in x.split():\n",
    "    y.append(int(i))\n",
    "print(y)"
   ]
  },
  {
   "cell_type": "markdown",
   "metadata": {},
   "source": [
    "## Some example programs"
   ]
  },
  {
   "cell_type": "code",
   "execution_count": 102,
   "metadata": {},
   "outputs": [
    {
     "name": "stdout",
     "output_type": "stream",
     "text": [
      "[1, 2, -4, 3.4, 'hi', 1.3]\n"
     ]
    }
   ],
   "source": [
    "#Concatenation of lists using +\n",
    "\n",
    "ls1= [1,2,-4,3.4]\n",
    "ls2 = [ \"hi\",1.3]\n",
    "ls3 = ls1+ls2\n",
    "print(ls3)"
   ]
  },
  {
   "cell_type": "code",
   "execution_count": 103,
   "metadata": {},
   "outputs": [
    {
     "name": "stdout",
     "output_type": "stream",
     "text": [
      "[1, 2, 3, 1, 2, 3, 1, 2, 3]\n"
     ]
    }
   ],
   "source": [
    "# Repetition using *\n",
    "\n",
    "ls = [1,2,3]\n",
    "ls1 = ls*3\n",
    "print(ls1)"
   ]
  },
  {
   "cell_type": "code",
   "execution_count": 121,
   "metadata": {},
   "outputs": [
    {
     "name": "stdout",
     "output_type": "stream",
     "text": [
      "Enter a number: 5\n",
      "[5, 10, 15, 20, 25, 30, 35, 40, 45, 50]\n"
     ]
    }
   ],
   "source": [
    "x= int(input(\"Enter a number: \"))\n",
    "ls = []  #Empty list\n",
    "for i in range(1,11):\n",
    "    ls = ls+[x*i]\n",
    "print(ls)"
   ]
  },
  {
   "cell_type": "code",
   "execution_count": 216,
   "metadata": {},
   "outputs": [
    {
     "name": "stdout",
     "output_type": "stream",
     "text": [
      "Enter a number: 5\n"
     ]
    },
    {
     "ename": "TypeError",
     "evalue": "can only concatenate list (not \"int\") to list",
     "output_type": "error",
     "traceback": [
      "\u001b[1;31m---------------------------------------------------------------------------\u001b[0m",
      "\u001b[1;31mTypeError\u001b[0m                                 Traceback (most recent call last)",
      "\u001b[1;32m<ipython-input-216-e2fc92f91b89>\u001b[0m in \u001b[0;36m<module>\u001b[1;34m\u001b[0m\n\u001b[0;32m      2\u001b[0m \u001b[0mls\u001b[0m \u001b[1;33m=\u001b[0m \u001b[1;33m[\u001b[0m\u001b[1;33m]\u001b[0m  \u001b[1;31m#Empty list\u001b[0m\u001b[1;33m\u001b[0m\u001b[1;33m\u001b[0m\u001b[0m\n\u001b[0;32m      3\u001b[0m \u001b[1;32mfor\u001b[0m \u001b[0mi\u001b[0m \u001b[1;32min\u001b[0m \u001b[0mrange\u001b[0m\u001b[1;33m(\u001b[0m\u001b[1;36m1\u001b[0m\u001b[1;33m,\u001b[0m\u001b[1;36m11\u001b[0m\u001b[1;33m)\u001b[0m\u001b[1;33m:\u001b[0m\u001b[1;33m\u001b[0m\u001b[1;33m\u001b[0m\u001b[0m\n\u001b[1;32m----> 4\u001b[1;33m     \u001b[0mls\u001b[0m \u001b[1;33m=\u001b[0m \u001b[0mls\u001b[0m \u001b[1;33m+\u001b[0m \u001b[0mx\u001b[0m\u001b[1;33m*\u001b[0m\u001b[0mi\u001b[0m \u001b[1;31m#Should be a list and written as [x*i]\u001b[0m\u001b[1;33m\u001b[0m\u001b[1;33m\u001b[0m\u001b[0m\n\u001b[0m\u001b[0;32m      5\u001b[0m     \u001b[0mprint\u001b[0m\u001b[1;33m(\u001b[0m\u001b[0mls\u001b[0m\u001b[1;33m)\u001b[0m\u001b[1;33m\u001b[0m\u001b[1;33m\u001b[0m\u001b[0m\n",
      "\u001b[1;31mTypeError\u001b[0m: can only concatenate list (not \"int\") to list"
     ]
    }
   ],
   "source": [
    "x= int(input(\"Enter a number: \"))\n",
    "ls = []  #Empty list\n",
    "for i in range(1,11):\n",
    "    ls = ls + x*i #Should be a list and written as [x*i]\n",
    "    print(ls)"
   ]
  },
  {
   "cell_type": "code",
   "execution_count": 123,
   "metadata": {},
   "outputs": [
    {
     "name": "stdout",
     "output_type": "stream",
     "text": [
      "['a', 'b', 'c', 10, 'e']\n"
     ]
    }
   ],
   "source": [
    "# Lists are mutable\n",
    "t = [\"a\",\"b\",\"c\",\"d\",\"e\"]\n",
    "t[3] = 10\n",
    "print(t)"
   ]
  },
  {
   "cell_type": "code",
   "execution_count": 129,
   "metadata": {},
   "outputs": [
    {
     "name": "stdout",
     "output_type": "stream",
     "text": [
      "['a', 10, 20, 'd', 'e']\n"
     ]
    }
   ],
   "source": [
    "t = [\"a\",\"b\",\"c\",\"d\",\"e\"]\n",
    "t[1:3] = [10,20]\n",
    "print(t)"
   ]
  },
  {
   "cell_type": "code",
   "execution_count": 130,
   "metadata": {},
   "outputs": [
    {
     "name": "stdout",
     "output_type": "stream",
     "text": [
      "['a', 10, 20, 'e']\n"
     ]
    }
   ],
   "source": [
    "t = [\"a\",\"b\",\"c\",\"d\",\"e\"]\n",
    "t[1:4] = [10,20]\n",
    "print(t)"
   ]
  },
  {
   "cell_type": "code",
   "execution_count": null,
   "metadata": {},
   "outputs": [],
   "source": []
  },
  {
   "cell_type": "markdown",
   "metadata": {},
   "source": [
    "# For loop for lists"
   ]
  },
  {
   "cell_type": "code",
   "execution_count": 155,
   "metadata": {},
   "outputs": [
    {
     "name": "stdout",
     "output_type": "stream",
     "text": [
      "23\n",
      "-3\n",
      "hi\n",
      "98\n"
     ]
    }
   ],
   "source": [
    "ls = [23,-3,\"hi\",98]\n",
    "for i in ls: #  here \"i\" takes the positional elements \n",
    "    print(i)"
   ]
  },
  {
   "cell_type": "code",
   "execution_count": 154,
   "metadata": {},
   "outputs": [
    {
     "name": "stdout",
     "output_type": "stream",
     "text": [
      "23\n",
      "-3\n",
      "hi\n",
      "98\n"
     ]
    }
   ],
   "source": [
    "ls = [23,-3,\"hi\",98]\n",
    "for i in range(len(ls)):  # here the loop will be for i in [0,1,2,3]\n",
    "    print(ls[i])   # if we print(i) = it will give value 0,1,2,3"
   ]
  },
  {
   "cell_type": "markdown",
   "metadata": {},
   "source": [
    "# <font color='red'>List operations (IMPORTANT)</font>\n"
   ]
  },
  {
   "cell_type": "markdown",
   "metadata": {},
   "source": [
    "## List functions"
   ]
  },
  {
   "cell_type": "code",
   "execution_count": 182,
   "metadata": {},
   "outputs": [
    {
     "data": {
      "text/plain": [
       "['__add__',\n",
       " '__class__',\n",
       " '__contains__',\n",
       " '__delattr__',\n",
       " '__delitem__',\n",
       " '__dir__',\n",
       " '__doc__',\n",
       " '__eq__',\n",
       " '__format__',\n",
       " '__ge__',\n",
       " '__getattribute__',\n",
       " '__getitem__',\n",
       " '__gt__',\n",
       " '__hash__',\n",
       " '__iadd__',\n",
       " '__imul__',\n",
       " '__init__',\n",
       " '__init_subclass__',\n",
       " '__iter__',\n",
       " '__le__',\n",
       " '__len__',\n",
       " '__lt__',\n",
       " '__mul__',\n",
       " '__ne__',\n",
       " '__new__',\n",
       " '__reduce__',\n",
       " '__reduce_ex__',\n",
       " '__repr__',\n",
       " '__reversed__',\n",
       " '__rmul__',\n",
       " '__setattr__',\n",
       " '__setitem__',\n",
       " '__sizeof__',\n",
       " '__str__',\n",
       " '__subclasshook__',\n",
       " 'append',\n",
       " 'clear',\n",
       " 'copy',\n",
       " 'count',\n",
       " 'extend',\n",
       " 'index',\n",
       " 'insert',\n",
       " 'pop',\n",
       " 'remove',\n",
       " 'reverse',\n",
       " 'sort']"
      ]
     },
     "execution_count": 182,
     "metadata": {},
     "output_type": "execute_result"
    }
   ],
   "source": [
    "dir(list)"
   ]
  },
  {
   "cell_type": "markdown",
   "metadata": {},
   "source": [
    "### append()"
   ]
  },
  {
   "cell_type": "code",
   "execution_count": 156,
   "metadata": {},
   "outputs": [
    {
     "name": "stdout",
     "output_type": "stream",
     "text": [
      "[1, 2, 3, 4]\n",
      "None\n"
     ]
    }
   ],
   "source": [
    "ls = [1,2,3]  # here ls is object name or variable name.\n",
    "x = ls.append(4) # will be modified and new number would be added since lists are mutable ie. values can be changed\n",
    "print(ls) \n",
    "print(x) #will return none s"
   ]
  },
  {
   "cell_type": "code",
   "execution_count": 165,
   "metadata": {},
   "outputs": [
    {
     "name": "stdout",
     "output_type": "stream",
     "text": [
      "None\n"
     ]
    }
   ],
   "source": [
    "ls = [1,2,3]\n",
    "ls = ls.append(4) # wrong way gives wrong value.(reason explained above)\n",
    "print(ls) "
   ]
  },
  {
   "cell_type": "code",
   "execution_count": 166,
   "metadata": {},
   "outputs": [
    {
     "name": "stdout",
     "output_type": "stream",
     "text": [
      "[1, 2, 3, [4]]\n"
     ]
    }
   ],
   "source": [
    "ls = [1,2,3]\n",
    "x = ls.append([4]) #here we added square bracket so it will consider the single element as a separate list\n",
    "print(ls)"
   ]
  },
  {
   "cell_type": "code",
   "execution_count": 167,
   "metadata": {},
   "outputs": [
    {
     "name": "stdout",
     "output_type": "stream",
     "text": [
      "[1, 2, 3, [4, 5]]\n"
     ]
    }
   ],
   "source": [
    "ls = [1,2,3]\n",
    "x = ls.append([4,5]) # here the values would be added as a separate list\n",
    "print(ls)"
   ]
  },
  {
   "cell_type": "code",
   "execution_count": 168,
   "metadata": {},
   "outputs": [
    {
     "name": "stdout",
     "output_type": "stream",
     "text": [
      "[4, 5, [1, 2, 3]]\n"
     ]
    }
   ],
   "source": [
    "ls1 = [1,2,3]\n",
    "ls2 = [4,5]\n",
    "ls2.append(ls1) # here the values would be added as a separate list\n",
    "print(ls2)"
   ]
  },
  {
   "cell_type": "code",
   "execution_count": 171,
   "metadata": {},
   "outputs": [
    {
     "name": "stdout",
     "output_type": "stream",
     "text": [
      "[1, 2, 3, [4, 5]]\n"
     ]
    }
   ],
   "source": [
    "ls1 = [1,2,3]\n",
    "ls2 = [4,5]\n",
    "ls1.append(ls2) # here the values would be added as a separate list\n",
    "print(ls1)"
   ]
  },
  {
   "cell_type": "markdown",
   "metadata": {},
   "source": [
    "### extend()"
   ]
  },
  {
   "cell_type": "code",
   "execution_count": 204,
   "metadata": {},
   "outputs": [
    {
     "name": "stdout",
     "output_type": "stream",
     "text": [
      "[4, 5, 1, 2, 3]\n"
     ]
    }
   ],
   "source": [
    "\n",
    "ls1 = [1,2,3]\n",
    "ls2 = [4,5]\n",
    "ls2.extend(ls1) # here every single element will be added separately and not as a separate list like append function\n",
    "print(ls2)"
   ]
  },
  {
   "cell_type": "markdown",
   "metadata": {},
   "source": [
    "### sort()\n",
    "- Will modify the original list"
   ]
  },
  {
   "cell_type": "code",
   "execution_count": 176,
   "metadata": {},
   "outputs": [
    {
     "name": "stdout",
     "output_type": "stream",
     "text": [
      "[-1, 2, 3, 5, 6, 18]\n"
     ]
    }
   ],
   "source": [
    "#sorting a list in ascending order\n",
    "ls=[-1,3,5,2,6,18]\n",
    "ls.sort() #by default it will be sorted in ascending order\n",
    "print(ls)"
   ]
  },
  {
   "cell_type": "code",
   "execution_count": 177,
   "metadata": {},
   "outputs": [
    {
     "name": "stdout",
     "output_type": "stream",
     "text": [
      "[18, 6, 5, 3, 2, -1]\n"
     ]
    }
   ],
   "source": [
    "#sorting a list in ascending order\n",
    "ls=[-1,3,5,2,6,18]\n",
    "ls.sort(reverse=True) # reverse is true means it will sort in descending order\n",
    "print(ls)"
   ]
  },
  {
   "cell_type": "markdown",
   "metadata": {},
   "source": [
    "### sorted()\n",
    "- Will sort without modifying the original list. So need to be assigned to a new variable"
   ]
  },
  {
   "cell_type": "code",
   "execution_count": 178,
   "metadata": {},
   "outputs": [
    {
     "name": "stdout",
     "output_type": "stream",
     "text": [
      "Sorted list is:  [-1, 2, 3, 5, 6, 18]\n",
      "Original list is:  [-1, 3, 5, 2, 6, 18]\n"
     ]
    }
   ],
   "source": [
    "ls=[-1,3,5,2,6,18]\n",
    "ls1 = sorted(ls)\n",
    "print(\"Sorted list is: \", ls1)\n",
    "print(\"Original list is: \",ls)"
   ]
  },
  {
   "cell_type": "code",
   "execution_count": 179,
   "metadata": {},
   "outputs": [
    {
     "name": "stdout",
     "output_type": "stream",
     "text": [
      "Ascending order list is:  [-1, 2, 3, 5, 6, 18]\n",
      "Original list is:  [-1, 3, 5, 2, 6, 18]\n",
      "Descending order:  [18, 6, 5, 3, 2, -1]\n"
     ]
    }
   ],
   "source": [
    "ls2 = sorted(ls,reverse=True)\n",
    "print(\"Ascending order list is: \", ls1)\n",
    "print(\"Original list is: \",ls)\n",
    "print(\"Descending order: \", ls2)"
   ]
  },
  {
   "cell_type": "markdown",
   "metadata": {},
   "source": [
    "### reverse() \n",
    "- Will reverse the list and modify the original list"
   ]
  },
  {
   "cell_type": "code",
   "execution_count": 181,
   "metadata": {},
   "outputs": [
    {
     "name": "stdout",
     "output_type": "stream",
     "text": [
      "[18, 6, 2, 5, 3, -1]\n"
     ]
    }
   ],
   "source": [
    "ls=[-1,3,5,2,6,18] \n",
    "ls.reverse() # will reverse the list and modify the original list\n",
    "print(ls)"
   ]
  },
  {
   "cell_type": "markdown",
   "metadata": {},
   "source": [
    "### pop()\n",
    "- Deleting elements from the list based on index"
   ]
  },
  {
   "cell_type": "code",
   "execution_count": 184,
   "metadata": {},
   "outputs": [
    {
     "name": "stdout",
     "output_type": "stream",
     "text": [
      "5\n",
      "[1, 2, 3, 10, 2, -2, 5, 2, 'hi', 3.4]\n"
     ]
    }
   ],
   "source": [
    "ls = [1,2,3,10,2,-2,5,2,\"hi\",3.4,5]\n",
    "x = ls.pop() # Last element will be popped out by default. Here we can store the popped value but cannot do this in del function\n",
    "print(x)\n",
    "print(ls)"
   ]
  },
  {
   "cell_type": "code",
   "execution_count": 185,
   "metadata": {},
   "outputs": [
    {
     "name": "stdout",
     "output_type": "stream",
     "text": [
      "10\n",
      "[1, 2, 3, 2, -2, 5, 2, 'hi', 3.4, 5]\n"
     ]
    }
   ],
   "source": [
    "ls = [1,2,3,10,2,-2,5,2,\"hi\",3.4,5]\n",
    "x = ls.pop(3) # given indexed element will be popped out\n",
    "print(x)\n",
    "print(ls)"
   ]
  },
  {
   "cell_type": "markdown",
   "metadata": {},
   "source": [
    "### remove()\n",
    "- Delete a required element using remove(). Here elements wont be deleted from the list based on the index value"
   ]
  },
  {
   "cell_type": "code",
   "execution_count": 58,
   "metadata": {},
   "outputs": [
    {
     "name": "stdout",
     "output_type": "stream",
     "text": [
      "[1, 2, 3, 10, 2, -2, 5, 2, 3.4, 5]\n"
     ]
    }
   ],
   "source": [
    "ls = [1,2,3,10,2,-2,5,2,\"hi\",3.4,5]\n",
    "ls.remove(\"hi\")\n",
    "print(ls)"
   ]
  },
  {
   "cell_type": "code",
   "execution_count": 191,
   "metadata": {},
   "outputs": [
    {
     "name": "stdout",
     "output_type": "stream",
     "text": [
      "[1, 2, 3, 2, -2, 5, 2, 'hi', 3.4, 5]\n"
     ]
    }
   ],
   "source": [
    "ls = [1,2,3,10,2,-2,5,2,\"hi\",3.4,5]\n",
    "ls.remove(10)\n",
    "print(ls)"
   ]
  },
  {
   "cell_type": "markdown",
   "metadata": {},
   "source": [
    "### del\n",
    "- Deleting more than one element using keword del"
   ]
  },
  {
   "cell_type": "code",
   "execution_count": 192,
   "metadata": {},
   "outputs": [
    {
     "name": "stdout",
     "output_type": "stream",
     "text": [
      "[1, 2, 10, 2, -2, 5, 2, 'hi', 3.4, 5]\n"
     ]
    }
   ],
   "source": [
    "ls = [1,2,3,10,2,-2,5,2,\"hi\",3.4,5]\n",
    "del ls[2]  #ls[2] that is the 3rd elememt is deleted\n",
    "print(ls)"
   ]
  },
  {
   "cell_type": "code",
   "execution_count": 193,
   "metadata": {},
   "outputs": [
    {
     "name": "stdout",
     "output_type": "stream",
     "text": [
      "[1, -2, 5, 2, 'hi', 3.4, 5]\n"
     ]
    }
   ],
   "source": [
    "ls = [1,2,3,10,2,-2,5,2,\"hi\",3.4,5]\n",
    "del ls[1:5]  #1st elememt to 4th element is deleted\n",
    "print(ls)"
   ]
  },
  {
   "cell_type": "markdown",
   "metadata": {},
   "source": [
    "### clear()\n",
    "- Clear all elements from the list"
   ]
  },
  {
   "cell_type": "code",
   "execution_count": 194,
   "metadata": {},
   "outputs": [
    {
     "name": "stdout",
     "output_type": "stream",
     "text": [
      "[]\n"
     ]
    }
   ],
   "source": [
    "ls = [1,2,3,10,2,-2,5,2,\"hi\",3.4,5]\n",
    "ls.clear()\n",
    "print(ls)"
   ]
  },
  {
   "cell_type": "markdown",
   "metadata": {},
   "source": [
    "### count()\n",
    "- counting the occurances of element"
   ]
  },
  {
   "cell_type": "code",
   "execution_count": 11,
   "metadata": {},
   "outputs": [
    {
     "name": "stdout",
     "output_type": "stream",
     "text": [
      "2\n"
     ]
    }
   ],
   "source": [
    "ls = [1,2,4,2,3,3,6]\n",
    "x = ls.count(2)\n",
    "print(x)"
   ]
  },
  {
   "cell_type": "code",
   "execution_count": 17,
   "metadata": {},
   "outputs": [
    {
     "data": {
      "text/plain": [
       "1"
      ]
     },
     "execution_count": 17,
     "metadata": {},
     "output_type": "execute_result"
    }
   ],
   "source": [
    "ls.count(6)"
   ]
  },
  {
   "cell_type": "markdown",
   "metadata": {},
   "source": [
    "### insert()\n",
    "- inserting single element at a required position"
   ]
  },
  {
   "cell_type": "code",
   "execution_count": 206,
   "metadata": {},
   "outputs": [
    {
     "name": "stdout",
     "output_type": "stream",
     "text": [
      "[1, 2, 35, 4, 2, 3, 3, 6]\n"
     ]
    }
   ],
   "source": [
    "ls = [1,2,4,2,3,3,6]\n",
    "ls.insert(2,35)  # ls.insert(2,35) means, here 2 is index and 35 will be inserted in index 2\n",
    "print(ls)"
   ]
  },
  {
   "cell_type": "markdown",
   "metadata": {},
   "source": [
    "### list()\n",
    "- convert string to list"
   ]
  },
  {
   "cell_type": "code",
   "execution_count": 207,
   "metadata": {},
   "outputs": [
    {
     "name": "stdout",
     "output_type": "stream",
     "text": [
      "['h', 'e', 'l', 'l', 'o']\n"
     ]
    }
   ],
   "source": [
    "#converting a string into lost of characters\n",
    "s = \"hello\"\n",
    "ls = list(s)\n",
    "print(ls)"
   ]
  },
  {
   "cell_type": "markdown",
   "metadata": {},
   "source": [
    "### split()\n",
    "- getting list of strings from a sentence\n",
    "- by default it takes space"
   ]
  },
  {
   "cell_type": "code",
   "execution_count": 208,
   "metadata": {},
   "outputs": [
    {
     "name": "stdout",
     "output_type": "stream",
     "text": [
      "['hello', 'how', 'are', 'you']\n"
     ]
    }
   ],
   "source": [
    "s = \"hello how are you\"\n",
    "ls =s.split(\" \")\n",
    "print(ls)"
   ]
  },
  {
   "cell_type": "code",
   "execution_count": 210,
   "metadata": {},
   "outputs": [
    {
     "name": "stdout",
     "output_type": "stream",
     "text": [
      "['h', 'llo how ar', ' you']\n"
     ]
    }
   ],
   "source": [
    "s = \"hello how are you\"\n",
    "ls =s.split(\"e\")\n",
    "print(ls)"
   ]
  },
  {
   "cell_type": "code",
   "execution_count": 211,
   "metadata": {},
   "outputs": [
    {
     "ename": "NameError",
     "evalue": "name 'e' is not defined",
     "output_type": "error",
     "traceback": [
      "\u001b[1;31m---------------------------------------------------------------------------\u001b[0m",
      "\u001b[1;31mNameError\u001b[0m                                 Traceback (most recent call last)",
      "\u001b[1;32m<ipython-input-211-a599557aec3b>\u001b[0m in \u001b[0;36m<module>\u001b[1;34m\u001b[0m\n\u001b[0;32m      1\u001b[0m \u001b[0ms\u001b[0m \u001b[1;33m=\u001b[0m \u001b[1;34m\"hello how are you\"\u001b[0m\u001b[1;33m\u001b[0m\u001b[1;33m\u001b[0m\u001b[0m\n\u001b[1;32m----> 2\u001b[1;33m \u001b[0mls\u001b[0m \u001b[1;33m=\u001b[0m\u001b[0ms\u001b[0m\u001b[1;33m.\u001b[0m\u001b[0msplit\u001b[0m\u001b[1;33m(\u001b[0m\u001b[0me\u001b[0m\u001b[1;33m)\u001b[0m\u001b[1;33m\u001b[0m\u001b[1;33m\u001b[0m\u001b[0m\n\u001b[0m\u001b[0;32m      3\u001b[0m \u001b[0mprint\u001b[0m\u001b[1;33m(\u001b[0m\u001b[0mls\u001b[0m\u001b[1;33m)\u001b[0m\u001b[1;33m\u001b[0m\u001b[1;33m\u001b[0m\u001b[0m\n",
      "\u001b[1;31mNameError\u001b[0m: name 'e' is not defined"
     ]
    }
   ],
   "source": [
    "s = \"hello how are you\"\n",
    "ls =s.split(e) # invalid, should be within single or double quotes\n",
    "print(ls)"
   ]
  },
  {
   "cell_type": "code",
   "execution_count": 213,
   "metadata": {},
   "outputs": [
    {
     "name": "stdout",
     "output_type": "stream",
     "text": [
      "['06', '02', '2019']\n"
     ]
    }
   ],
   "source": [
    "# Example splitting date\n",
    "d = \"06/02/2019\"\n",
    "ls =d.split(\"/\")\n",
    "print(ls)"
   ]
  },
  {
   "cell_type": "code",
   "execution_count": 214,
   "metadata": {},
   "outputs": [
    {
     "data": {
      "text/plain": [
       "'hello how  are'"
      ]
     },
     "execution_count": 214,
     "metadata": {},
     "output_type": "execute_result"
    }
   ],
   "source": [
    "ls = [\"hello\", \"how \", \"are\"]\n",
    "s = \" \" #s will join\n",
    "s.join(ls)\n"
   ]
  },
  {
   "cell_type": "code",
   "execution_count": 215,
   "metadata": {},
   "outputs": [
    {
     "data": {
      "text/plain": [
       "'hellohhow hare'"
      ]
     },
     "execution_count": 215,
     "metadata": {},
     "output_type": "execute_result"
    }
   ],
   "source": [
    "ls = [\"hello\", \"how \", \"are\"]\n",
    "s = \"h\"\n",
    "s.join(ls)\n"
   ]
  },
  {
   "cell_type": "markdown",
   "metadata": {},
   "source": [
    "# Find output "
   ]
  },
  {
   "cell_type": "code",
   "execution_count": 285,
   "metadata": {},
   "outputs": [
    {
     "data": {
      "text/plain": [
       "'serisiru'"
      ]
     },
     "execution_count": 285,
     "metadata": {},
     "output_type": "execute_result"
    }
   ],
   "source": [
    "def mystery(s):\n",
    "    for i in range(len(s),1,-2):\n",
    "        s = s[1:]+s[0]\n",
    "    return (s)\n",
    "mstring = \"siruseri\"\n",
    "mystery(mstring)\n",
    "#print(mstring)"
   ]
  },
  {
   "cell_type": "markdown",
   "metadata": {},
   "source": [
    "# Program:"
   ]
  },
  {
   "cell_type": "markdown",
   "metadata": {},
   "source": [
    "## Program to reverse a list n number of times."
   ]
  },
  {
   "cell_type": "code",
   "execution_count": 1,
   "metadata": {},
   "outputs": [
    {
     "name": "stdout",
     "output_type": "stream",
     "text": [
      "Enter a +ve number: 4\n",
      "Original list is [1, 2, 3, 4, 5]\n",
      "Reveresd list is [2, 3, 4, 5, 1]\n"
     ]
    }
   ],
   "source": [
    "def rotatelist(ls,k):\n",
    "    rs = ls.copy()\n",
    "    if k<0:\n",
    "        print(\"The list is:\",ls)\n",
    "    else:\n",
    "        for i in range(k):\n",
    "            rs= [rs[-1]]+rs[0:-1]\n",
    "        print(\"Original list is\",ls)\n",
    "        print(\"Reveresd list is\",rs)\n",
    "ls = [1,2,3,4,5]\n",
    "n = int(input(\"Enter a +ve number: \"))\n",
    "rotatelist(ls,n)\n",
    "    "
   ]
  },
  {
   "cell_type": "code",
   "execution_count": 32,
   "metadata": {},
   "outputs": [
    {
     "name": "stdout",
     "output_type": "stream",
     "text": [
      "Enter a +ve number: 2\n",
      "Original [1, 2, 3, 4, 5]\n",
      "The list is: [4, 5, 1, 2, 3]\n"
     ]
    }
   ],
   "source": [
    "# Using return \n",
    "def rotatelist(ls,k):\n",
    "    rs = ls.copy()\n",
    "    if k<0:\n",
    "        return ls\n",
    "    else:\n",
    "        for i in range(k):\n",
    "            rs= [rs[-1]]+rs[0:-1]\n",
    "        print(\"Original\", ls)\n",
    "        return rs\n",
    "    \n",
    "ls = [1,2,3,4,5]\n",
    "n = int(input(\"Enter a +ve number: \"))\n",
    "print(\"The list is:\",rotatelist(ls,n))"
   ]
  },
  {
   "cell_type": "markdown",
   "metadata": {},
   "source": [
    "## Program to define python function which returns true if each element in the input list is at as big as the one before it."
   ]
  },
  {
   "cell_type": "code",
   "execution_count": 21,
   "metadata": {},
   "outputs": [
    {
     "name": "stdout",
     "output_type": "stream",
     "text": [
      "\n",
      "[]\n"
     ]
    },
    {
     "data": {
      "text/plain": [
       "True"
      ]
     },
     "execution_count": 21,
     "metadata": {},
     "output_type": "execute_result"
    }
   ],
   "source": [
    "def ascending(ls):\n",
    "    leng = len(ls)\n",
    "    if leng == 0:\n",
    "        return True\n",
    "    else:\n",
    "        for i in range(leng):\n",
    "            if(ls[i] == ls[i+1]):\n",
    "                return True\n",
    "            else:\n",
    "                return False\n",
    "a = [int(x) for x in input().split()]\n",
    "print(a)\n",
    "ascending(a)\n",
    "    "
   ]
  },
  {
   "cell_type": "code",
   "execution_count": 23,
   "metadata": {},
   "outputs": [
    {
     "name": "stdout",
     "output_type": "stream",
     "text": [
      "1 3 2 3 1\n",
      "[1, 3, 2, 3, 1]\n"
     ]
    },
    {
     "data": {
      "text/plain": [
       "False"
      ]
     },
     "execution_count": 23,
     "metadata": {},
     "output_type": "execute_result"
    }
   ],
   "source": [
    "# Try\n",
    "\n",
    "def alternating(ls):\n",
    "    leng = len(ls)\n",
    "    if leng == 0:\n",
    "        return True\n",
    "    else:\n",
    "        for i in range(leng):\n",
    "            for j in range(leng):\n",
    "                if(ls[i] == ls[j]):\n",
    "                    return True\n",
    "            return False\n",
    "a = [int(x) for x in input().split()]\n",
    "print(a)\n",
    "ascending(a)\n"
   ]
  },
  {
   "cell_type": "markdown",
   "metadata": {},
   "source": [
    "# <font color='red'>Demonstrations of Simple Tuples</font>\n",
    "- Values enclosed within paranthesis"
   ]
  },
  {
   "cell_type": "code",
   "execution_count": 286,
   "metadata": {},
   "outputs": [
    {
     "name": "stdout",
     "output_type": "stream",
     "text": [
      "<class 'tuple'>\n"
     ]
    }
   ],
   "source": [
    "t =() # creating empty tuple\n",
    "print(type(t))"
   ]
  },
  {
   "cell_type": "code",
   "execution_count": 288,
   "metadata": {},
   "outputs": [
    {
     "name": "stdout",
     "output_type": "stream",
     "text": [
      "<class 'tuple'>\n"
     ]
    }
   ],
   "source": [
    "t1 = tuple()  # creating empty tuple\n",
    "print(type(t1))"
   ]
  },
  {
   "cell_type": "code",
   "execution_count": 289,
   "metadata": {},
   "outputs": [
    {
     "name": "stdout",
     "output_type": "stream",
     "text": [
      "(12, 32, -5)\n"
     ]
    }
   ],
   "source": [
    "t = (12,32,-5)\n",
    "print(t)"
   ]
  },
  {
   "cell_type": "code",
   "execution_count": 290,
   "metadata": {},
   "outputs": [
    {
     "name": "stdout",
     "output_type": "stream",
     "text": [
      "(23, 'hi', 3.4, 12)\n"
     ]
    }
   ],
   "source": [
    "t = (23,\"hi\",3.4,12)\n",
    "print(t)"
   ]
  },
  {
   "cell_type": "markdown",
   "metadata": {},
   "source": [
    "### <font color='red'>Tuples Important(create a tuple with one element)</font>"
   ]
  },
  {
   "cell_type": "code",
   "execution_count": 291,
   "metadata": {},
   "outputs": [
    {
     "name": "stdout",
     "output_type": "stream",
     "text": [
      "<class 'int'>\n"
     ]
    }
   ],
   "source": [
    "# create a tuple with single elemnet\n",
    "t=(3)\n",
    "print(type(t))  #WILL BE TREATED AS INTEGER"
   ]
  },
  {
   "cell_type": "code",
   "execution_count": 292,
   "metadata": {},
   "outputs": [
    {
     "name": "stdout",
     "output_type": "stream",
     "text": [
      "<class 'tuple'>\n"
     ]
    }
   ],
   "source": [
    "# create a tuple with single elemnet\n",
    "t=(3,)    #COMMA IS MUST\n",
    "print(type(t))"
   ]
  },
  {
   "cell_type": "code",
   "execution_count": 293,
   "metadata": {},
   "outputs": [
    {
     "name": "stdout",
     "output_type": "stream",
     "text": [
      "<class 'tuple'>\n",
      "(1, 2, 3)\n"
     ]
    }
   ],
   "source": [
    "# paranthesis is not mandatory\n",
    "t = 1,2,3\n",
    "print(type(t))\n",
    "print(t)"
   ]
  },
  {
   "cell_type": "code",
   "execution_count": 296,
   "metadata": {},
   "outputs": [
    {
     "name": "stdout",
     "output_type": "stream",
     "text": [
      "('h', 'e', 'l', 'l', 'o')\n"
     ]
    }
   ],
   "source": [
    "# creating tuples using string\n",
    "s = \"hello\"\n",
    "t = tuple(s)\n",
    "print(t)"
   ]
  },
  {
   "cell_type": "code",
   "execution_count": 298,
   "metadata": {},
   "outputs": [
    {
     "name": "stdout",
     "output_type": "stream",
     "text": [
      "(1, 2, 3, 'hi', 6.7)\n"
     ]
    }
   ],
   "source": [
    "# creating a tuple using a list\n",
    "ls = [1,2,3,\"hi\",6.7]\n",
    "t = tuple(ls)\n",
    "print(t)"
   ]
  },
  {
   "cell_type": "code",
   "execution_count": 299,
   "metadata": {},
   "outputs": [
    {
     "name": "stdout",
     "output_type": "stream",
     "text": [
      "t1 is  (23, 78, 32)\n",
      "ID is:  1008910940272\n",
      "t2 is  (23, 78, 32)\n",
      "ID is:  1008910940272\n"
     ]
    }
   ],
   "source": [
    "# creating a tuple from another tuple\n",
    "t1 = 23,78,32\n",
    "print(\"t1 is \",t1)\n",
    "print(\"ID is: \",id(t1))\n",
    "t2 = tuple(t1)\n",
    "print(\"t2 is \",t2)\n",
    "print(\"ID is: \",id(t2))  #creates just a reference to existing obect\n"
   ]
  },
  {
   "cell_type": "code",
   "execution_count": 300,
   "metadata": {},
   "outputs": [
    {
     "name": "stdout",
     "output_type": "stream",
     "text": [
      "banana\n"
     ]
    }
   ],
   "source": [
    "# Indexing and slicing on tuples\n",
    "t = \"Mango\",\"banana\",\"Apple\"  #its a tuple\n",
    "print(t[1])"
   ]
  },
  {
   "cell_type": "code",
   "execution_count": 301,
   "metadata": {},
   "outputs": [
    {
     "name": "stdout",
     "output_type": "stream",
     "text": [
      "('banana', 'Apple')\n"
     ]
    }
   ],
   "source": [
    "print(t[1:])"
   ]
  },
  {
   "cell_type": "code",
   "execution_count": 302,
   "metadata": {},
   "outputs": [
    {
     "name": "stdout",
     "output_type": "stream",
     "text": [
      "Apple\n"
     ]
    }
   ],
   "source": [
    "print(t[-1])"
   ]
  },
  {
   "cell_type": "code",
   "execution_count": null,
   "metadata": {},
   "outputs": [],
   "source": [
    "# As tuples are immutable, one cannot alter its contents\n",
    "# Instead, we can slice and create new tuple\n",
    "t = (\"Mango\",\"banana\",\"Apple\")\n",
    "t[0]= \"papaya\"  # error\n",
    "print(t)"
   ]
  },
  {
   "cell_type": "markdown",
   "metadata": {},
   "source": [
    "### Assignment on Tuples"
   ]
  },
  {
   "cell_type": "code",
   "execution_count": 304,
   "metadata": {},
   "outputs": [
    {
     "name": "stdout",
     "output_type": "stream",
     "text": [
      "10\n",
      "20\n"
     ]
    }
   ],
   "source": [
    "x,y = 10,20  #x,y is a tuple\n",
    "print(x)\n",
    "print(y)"
   ]
  },
  {
   "cell_type": "code",
   "execution_count": 306,
   "metadata": {},
   "outputs": [
    {
     "name": "stdout",
     "output_type": "stream",
     "text": [
      "3\n",
      "4\n"
     ]
    }
   ],
   "source": [
    "# Assignment list to tuple\n",
    "ls = [3,4]\n",
    "x,y = ls\n",
    "print(x)\n",
    "print(y)"
   ]
  },
  {
   "cell_type": "code",
   "execution_count": 307,
   "metadata": {},
   "outputs": [
    {
     "name": "stdout",
     "output_type": "stream",
     "text": [
      "20 10\n"
     ]
    }
   ],
   "source": [
    "# Swapping of two numbers\n",
    "a =10\n",
    "b =20 \n",
    "a,b = b,a\n",
    "print(a, b)\n"
   ]
  },
  {
   "cell_type": "code",
   "execution_count": 308,
   "metadata": {},
   "outputs": [
    {
     "ename": "ValueError",
     "evalue": "too many values to unpack (expected 2)",
     "output_type": "error",
     "traceback": [
      "\u001b[1;31m---------------------------------------------------------------------------\u001b[0m",
      "\u001b[1;31mValueError\u001b[0m                                Traceback (most recent call last)",
      "\u001b[1;32m<ipython-input-308-5e300ff78fb0>\u001b[0m in \u001b[0;36m<module>\u001b[1;34m\u001b[0m\n\u001b[0;32m      1\u001b[0m \u001b[1;31m# Excess value assignment\u001b[0m\u001b[1;33m\u001b[0m\u001b[1;33m\u001b[0m\u001b[1;33m\u001b[0m\u001b[0m\n\u001b[1;32m----> 2\u001b[1;33m \u001b[0mx\u001b[0m\u001b[1;33m,\u001b[0m\u001b[0my\u001b[0m \u001b[1;33m=\u001b[0m \u001b[1;36m10\u001b[0m\u001b[1;33m,\u001b[0m\u001b[1;36m20\u001b[0m\u001b[1;33m,\u001b[0m\u001b[1;36m30\u001b[0m\u001b[1;33m\u001b[0m\u001b[1;33m\u001b[0m\u001b[0m\n\u001b[0m",
      "\u001b[1;31mValueError\u001b[0m: too many values to unpack (expected 2)"
     ]
    }
   ],
   "source": [
    "# Excess value assignment\n",
    "x,y = 10,20,30 # error"
   ]
  },
  {
   "cell_type": "code",
   "execution_count": 309,
   "metadata": {},
   "outputs": [
    {
     "ename": "ValueError",
     "evalue": "not enough values to unpack (expected 3, got 2)",
     "output_type": "error",
     "traceback": [
      "\u001b[1;31m---------------------------------------------------------------------------\u001b[0m",
      "\u001b[1;31mValueError\u001b[0m                                Traceback (most recent call last)",
      "\u001b[1;32m<ipython-input-309-2df59ce89ef8>\u001b[0m in \u001b[0;36m<module>\u001b[1;34m\u001b[0m\n\u001b[0;32m      1\u001b[0m \u001b[1;31m# Less number f values\u001b[0m\u001b[1;33m\u001b[0m\u001b[1;33m\u001b[0m\u001b[1;33m\u001b[0m\u001b[0m\n\u001b[1;32m----> 2\u001b[1;33m \u001b[0mx\u001b[0m\u001b[1;33m,\u001b[0m\u001b[0my\u001b[0m\u001b[1;33m,\u001b[0m\u001b[0mz\u001b[0m \u001b[1;33m=\u001b[0m \u001b[1;36m10\u001b[0m\u001b[1;33m,\u001b[0m\u001b[1;36m20\u001b[0m\u001b[1;33m\u001b[0m\u001b[1;33m\u001b[0m\u001b[0m\n\u001b[0m",
      "\u001b[1;31mValueError\u001b[0m: not enough values to unpack (expected 3, got 2)"
     ]
    }
   ],
   "source": [
    "# Less number f values\n",
    "x,y,z = 10,20 #error"
   ]
  },
  {
   "cell_type": "code",
   "execution_count": 310,
   "metadata": {},
   "outputs": [
    {
     "name": "stdout",
     "output_type": "stream",
     "text": [
      "User name:  chetanahegde\n",
      "DomainName:  ieee.org\n"
     ]
    }
   ],
   "source": [
    "# Extract User Name and domain name from email ID\n",
    "\n",
    "email = \"chetanahegde@ieee.org\"\n",
    "username,domainName = email.split(\"@\")\n",
    "print(\"User name: \",username )\n",
    "print(\"DomainName: \",domainName)"
   ]
  },
  {
   "cell_type": "markdown",
   "metadata": {},
   "source": [
    "# Additional operations on List"
   ]
  },
  {
   "cell_type": "code",
   "execution_count": 315,
   "metadata": {},
   "outputs": [
    {
     "name": "stdout",
     "output_type": "stream",
     "text": [
      "[0, 1, 2, 3, 4, 5, 6, 7, 8, 9]\n"
     ]
    }
   ],
   "source": [
    "ls = [i for i in range(10)]\n",
    "print(ls)"
   ]
  },
  {
   "cell_type": "code",
   "execution_count": 311,
   "metadata": {},
   "outputs": [
    {
     "name": "stdout",
     "output_type": "stream",
     "text": [
      "[0, 2, 4, 6, 8]\n"
     ]
    }
   ],
   "source": [
    "ls = [i for i in range(10) if i%2==0]\n",
    "print(ls)"
   ]
  },
  {
   "cell_type": "code",
   "execution_count": 314,
   "metadata": {},
   "outputs": [
    {
     "name": "stdout",
     "output_type": "stream",
     "text": [
      "[0, 1, 2, 3, 4, 5]\n"
     ]
    }
   ],
   "source": [
    "# More eloberative manner\n",
    "ls=[]\n",
    "for i in range(6):\n",
    "    ls.append(i)\n",
    "print(ls)"
   ]
  },
  {
   "cell_type": "markdown",
   "metadata": {},
   "source": [
    "# Find Output"
   ]
  },
  {
   "cell_type": "code",
   "execution_count": 319,
   "metadata": {},
   "outputs": [
    {
     "name": "stdout",
     "output_type": "stream",
     "text": [
      "[(1, 1, 2), (1, 1, 3), (1, 2, 3)]\n"
     ]
    }
   ],
   "source": [
    "triples = [(x,y,z) for x in range(1,4) for y in range(x,4) for z in range(y,4) if x+y <=z]\n",
    "print(triples)"
   ]
  },
  {
   "cell_type": "markdown",
   "metadata": {},
   "source": [
    "# <font color='red'>Dictionary</font>\n",
    "- Keys should be unique.\n",
    "- Keys are immutable(number or string or tuple)\n",
    "- Value can be mutable or immutable but keys are always mutable.\n",
    "- Dictonary us a <font color='red'>HASHABLE</font> data Type. Here data will be stored based on some hash function. So index cannot be used to search. Ex: d[0] cannot be used."
   ]
  },
  {
   "cell_type": "code",
   "execution_count": 24,
   "metadata": {},
   "outputs": [
    {
     "name": "stdout",
     "output_type": "stream",
     "text": [
      "<class 'dict'>\n"
     ]
    }
   ],
   "source": [
    "# Create empty dictionary\n",
    "d ={}\n",
    "print(type(d))"
   ]
  },
  {
   "cell_type": "code",
   "execution_count": 25,
   "metadata": {},
   "outputs": [
    {
     "name": "stdout",
     "output_type": "stream",
     "text": [
      "<class 'dict'>\n"
     ]
    }
   ],
   "source": [
    "d = dict()\n",
    "print(type(d))"
   ]
  },
  {
   "cell_type": "code",
   "execution_count": 26,
   "metadata": {},
   "outputs": [
    {
     "name": "stdout",
     "output_type": "stream",
     "text": [
      "{'mango': 'Fruit', 'Banana': 'Fruit', 'Cucumber': 'Veg'}\n"
     ]
    }
   ],
   "source": [
    "#create empty dictionary and add items to it\n",
    "d ={}\n",
    "d[\"mango\"]=\"Fruit\"\n",
    "d[\"Banana\"] = \"Fruit\"\n",
    "d[\"Cucumber\"] = \"Veg\"\n",
    "print(d)"
   ]
  },
  {
   "cell_type": "code",
   "execution_count": 28,
   "metadata": {},
   "outputs": [
    {
     "name": "stdout",
     "output_type": "stream",
     "text": [
      "{'mango': 'Fruit', 'Banana': 15, 'Cucumber': 'Veg'}\n"
     ]
    }
   ],
   "source": [
    "d[\"Banana\"] = 15 # Value of banana will be replaced with 15, since values are mutable.\n",
    "print(d)"
   ]
  },
  {
   "cell_type": "code",
   "execution_count": 29,
   "metadata": {},
   "outputs": [
    {
     "name": "stdout",
     "output_type": "stream",
     "text": [
      "{'Fruit': 'Banana', 'Veg': 'Cucumber'}\n"
     ]
    }
   ],
   "source": [
    "# Key should be unique otherwise it will overwrite\n",
    "\n",
    "d= {}\n",
    "d[\"Fruit\"]=\"Mango\"    # Initiall this will run\n",
    "d[\"Fruit\"]=\"Banana\"   # then it will be overwritten since Key word is same\n",
    "d[\"Veg\"]= \"Cucumber\"\n",
    "print(d)"
   ]
  },
  {
   "cell_type": "code",
   "execution_count": 31,
   "metadata": {},
   "outputs": [
    {
     "name": "stdout",
     "output_type": "stream",
     "text": [
      "{'Tom': 3491, 'Jerry': 3732}\n",
      "{'Tom': 3491, 'Jerry': 3732, 'Donald': 7383}\n"
     ]
    }
   ],
   "source": [
    "# Create dictionary with some values and then update it with extra values\n",
    "# dictionary is mutable\n",
    "\n",
    "tel_dir = {\"Tom\":3491,\"Jerry\": 3732}\n",
    "print(tel_dir)\n",
    "tel_dir[\"Donald\"]=7383\n",
    "print(tel_dir)"
   ]
  },
  {
   "cell_type": "code",
   "execution_count": 32,
   "metadata": {},
   "outputs": [
    {
     "name": "stdout",
     "output_type": "stream",
     "text": [
      "telephone number of Tom is: 3491\n"
     ]
    }
   ],
   "source": [
    "print(\"telephone number of Tom is:\",tel_dir[\"Tom\"])"
   ]
  },
  {
   "cell_type": "code",
   "execution_count": 36,
   "metadata": {},
   "outputs": [
    {
     "data": {
      "text/plain": [
       "True"
      ]
     },
     "execution_count": 36,
     "metadata": {},
     "output_type": "execute_result"
    }
   ],
   "source": [
    "# Checking whether a key is there in dictionary or not\n",
    "\n",
    "tel_dir = {\"Tom\":3491,\"Jerry\": 3732,\"Donald\":4793}\n",
    "\"Jerry\" in tel_dir"
   ]
  },
  {
   "cell_type": "code",
   "execution_count": 37,
   "metadata": {},
   "outputs": [
    {
     "data": {
      "text/plain": [
       "False"
      ]
     },
     "execution_count": 37,
     "metadata": {},
     "output_type": "execute_result"
    }
   ],
   "source": [
    "\"Hello\" in tel_dir # Search whether its there or not"
   ]
  },
  {
   "cell_type": "markdown",
   "metadata": {},
   "source": [
    "### key() , value()"
   ]
  },
  {
   "cell_type": "code",
   "execution_count": 39,
   "metadata": {},
   "outputs": [
    {
     "data": {
      "text/plain": [
       "dict_keys(['Tom', 'Jerry', 'Donald'])"
      ]
     },
     "execution_count": 39,
     "metadata": {},
     "output_type": "execute_result"
    }
   ],
   "source": [
    "# Extract the Keys\n",
    "tel_dir = {\"Tom\":3491,\"Jerry\": 3732,\"Donald\":4793}\n",
    "tel_dir.keys()"
   ]
  },
  {
   "cell_type": "markdown",
   "metadata": {},
   "source": [
    "### <font color = \"red\" > In above example the output is not a list. It has some variable dict_keys. So we have to convert it to list if needed </font>"
   ]
  },
  {
   "cell_type": "code",
   "execution_count": 41,
   "metadata": {},
   "outputs": [
    {
     "data": {
      "text/plain": [
       "['Tom', 'Jerry', 'Donald']"
      ]
     },
     "execution_count": 41,
     "metadata": {},
     "output_type": "execute_result"
    }
   ],
   "source": [
    "list(tel_dir.keys()) # list"
   ]
  },
  {
   "cell_type": "code",
   "execution_count": 42,
   "metadata": {},
   "outputs": [
    {
     "data": {
      "text/plain": [
       "dict_values([3491, 3732, 4793])"
      ]
     },
     "execution_count": 42,
     "metadata": {},
     "output_type": "execute_result"
    }
   ],
   "source": [
    "tel_dir.values() # Extract the values"
   ]
  },
  {
   "cell_type": "code",
   "execution_count": 43,
   "metadata": {},
   "outputs": [
    {
     "data": {
      "text/plain": [
       "[3491, 3732, 4793]"
      ]
     },
     "execution_count": 43,
     "metadata": {},
     "output_type": "execute_result"
    }
   ],
   "source": [
    "list(tel_dir.values())"
   ]
  },
  {
   "cell_type": "code",
   "execution_count": 45,
   "metadata": {},
   "outputs": [
    {
     "data": {
      "text/plain": [
       "True"
      ]
     },
     "execution_count": 45,
     "metadata": {},
     "output_type": "execute_result"
    }
   ],
   "source": [
    "# Search anything in string\n",
    "\"el\" in \"hello\""
   ]
  },
  {
   "cell_type": "markdown",
   "metadata": {},
   "source": [
    "### get()"
   ]
  },
  {
   "cell_type": "code",
   "execution_count": 47,
   "metadata": {},
   "outputs": [
    {
     "name": "stdout",
     "output_type": "stream",
     "text": [
      "23\n",
      "0\n",
      "Not found\n"
     ]
    }
   ],
   "source": [
    "# Using get() function\n",
    "# Refer notebook for internal operation\n",
    "\n",
    "students = {\"tom\": 45,\"Jerry\" : 23,\"donald\": 34}\n",
    "print(students.get(\"Jerry\",0)) # SINCE \"Jerry\" is there in dictionary, respective value of Jerry will be displayed\n",
    "print(students.get(\"Micky\",0)) # Will display Zero\n",
    "print(students.get(\"Mick\", \"Not found\")) # will display \"Not Found\""
   ]
  },
  {
   "cell_type": "code",
   "execution_count": 50,
   "metadata": {},
   "outputs": [
    {
     "name": "stdout",
     "output_type": "stream",
     "text": [
      "23\n"
     ]
    }
   ],
   "source": [
    "# Internal operation of get()\n",
    "\n",
    "if \"Jerry\" in students.keys():\n",
    "    print(students[\"Jerry\"])\n",
    "else:\n",
    "    print(0)"
   ]
  },
  {
   "cell_type": "code",
   "execution_count": 49,
   "metadata": {},
   "outputs": [
    {
     "name": "stdout",
     "output_type": "stream",
     "text": [
      "0\n"
     ]
    }
   ],
   "source": [
    "print(students.get(\"jerry\",0)) # Case Sensitive"
   ]
  },
  {
   "cell_type": "markdown",
   "metadata": {},
   "source": [
    "## Program to count the each character in a string."
   ]
  },
  {
   "cell_type": "code",
   "execution_count": 74,
   "metadata": {},
   "outputs": [
    {
     "name": "stdout",
     "output_type": "stream",
     "text": [
      "Enter a string: hello world\n",
      "{'h': 1, 'e': 1, 'l': 3, 'o': 2, ' ': 1, 'w': 1, 'r': 1, 'd': 1}\n"
     ]
    }
   ],
   "source": [
    "'''\n",
    "Write a progtram to read a string. Count the number of occurrences of each character in the string. Use dictionary.\n",
    "Example: input string is \"hello\"\n",
    "Then output must be {\"h\":1,\"e\":1,\"l\":2,\"o\"=1}\n",
    "\n",
    "'''\n",
    "\n",
    "strg = input(\"Enter a string: \")\n",
    "d = {}\n",
    "for i in strg:\n",
    "    d[i]= strg.count(i)   #here \"l\" will be counted and execute 3 times but it will give the same value. It will keep altering the dictonary but since keys are immutable,the same value will be replaced again. \n",
    "print(d)\n"
   ]
  },
  {
   "cell_type": "code",
   "execution_count": 75,
   "metadata": {},
   "outputs": [
    {
     "name": "stdout",
     "output_type": "stream",
     "text": [
      "Enter a string: hello\n",
      "Final Dictionary:  {'h': 1, 'e': 1, 'l': 2, 'o': 1}\n"
     ]
    }
   ],
   "source": [
    "# Lecturers Code\n",
    "d = {}\n",
    "strg = input(\"Enter a string: \")\n",
    "for i in strg:\n",
    "    d[i] = d.get(i,0)+1 \n",
    "print(\"Final Dictionary: \",d)\n",
    "\n",
    "'''\n",
    "Here first i value will be \"h\", since \"h\" is not present value of d.get(\"h\",0) will be 0. Therefore d[\"h\"] = 0+1=1. Hence \"h\" \n",
    "will be one and so on. \n",
    "For the second \"l\", d.get(\"l\",0) will give 1, Therefore d[\"l\"]=1+1=2 . Hence d[\"l\"] will be replaced by 2.\n",
    "\n",
    "'''"
   ]
  },
  {
   "cell_type": "markdown",
   "metadata": {},
   "source": [
    "### items()\n",
    "#### Using dictionaries and tuples"
   ]
  },
  {
   "cell_type": "code",
   "execution_count": 77,
   "metadata": {},
   "outputs": [
    {
     "data": {
      "text/plain": [
       "dict_items([('Tom', 3491), ('Jerry', 8135), ('Mickey', 1253)])"
      ]
     },
     "execution_count": 77,
     "metadata": {},
     "output_type": "execute_result"
    }
   ],
   "source": [
    "# Using items() on dictionaries\n",
    "\n",
    "tel_dir = {\"Tom\": 3491, \"Jerry\": 8135, \"Mickey\": 1253}\n",
    "tel_dir.items()"
   ]
  },
  {
   "cell_type": "code",
   "execution_count": 79,
   "metadata": {},
   "outputs": [
    {
     "data": {
      "text/plain": [
       "[('Tom', 3491), ('Jerry', 8135), ('Mickey', 1253)]"
      ]
     },
     "execution_count": 79,
     "metadata": {},
     "output_type": "execute_result"
    }
   ],
   "source": [
    "# Converting into lists\n",
    "ls = list(tel_dir.items())\n",
    "ls"
   ]
  },
  {
   "cell_type": "code",
   "execution_count": 80,
   "metadata": {},
   "outputs": [
    {
     "name": "stdout",
     "output_type": "stream",
     "text": [
      "Tom 3491\n",
      "Jerry 8135\n",
      "Mickey 1253\n"
     ]
    }
   ],
   "source": [
    "# Since they are in tuple format we can access like\n",
    "\n",
    "for k,v in tel_dir.items():  # Here k,v are tuples so since tel_dir.items() are in tuple format we can use this to access them.\n",
    "    print(k,v)"
   ]
  },
  {
   "cell_type": "code",
   "execution_count": 82,
   "metadata": {},
   "outputs": [
    {
     "name": "stdout",
     "output_type": "stream",
     "text": [
      "Keys are: Tom  Values are: 3491\n",
      "Keys are: Jerry  Values are: 8135\n",
      "Keys are: Mickey  Values are: 1253\n"
     ]
    }
   ],
   "source": [
    "\n",
    "for k,v in tel_dir.items():  \n",
    "    print(\"Keys are:\",k,\" Values are:\",v)"
   ]
  },
  {
   "cell_type": "code",
   "execution_count": 86,
   "metadata": {},
   "outputs": [
    {
     "name": "stdout",
     "output_type": "stream",
     "text": [
      "Tom 3491\n",
      "Jerry 8135\n",
      "Mickey 1253\n",
      "{'Tom': 3491, 'Jerry': 8135, 'Mickey': 1253}\n"
     ]
    }
   ],
   "source": [
    "# revert back or keep a copy of it using tel_dir.copy()\n",
    "d1={}\n",
    "for k,v in tel_dir.items(): \n",
    "    print(k,v)\n",
    "    d1[k] = v\n",
    "print(d1)"
   ]
  },
  {
   "cell_type": "code",
   "execution_count": 87,
   "metadata": {},
   "outputs": [
    {
     "name": "stdout",
     "output_type": "stream",
     "text": [
      "{'Tom': 3491, 'Jerry': 8135, 'Mickey': 1253}\n"
     ]
    }
   ],
   "source": [
    "d1 = tel_dir.copy()\n",
    "print(d1)"
   ]
  },
  {
   "cell_type": "code",
   "execution_count": 24,
   "metadata": {},
   "outputs": [
    {
     "name": "stdout",
     "output_type": "stream",
     "text": [
      "Enter a sentence: hello hey\n",
      "hello hey hello hey "
     ]
    }
   ],
   "source": [
    "#Output in Week Two\n",
    "'''\n",
    "Read a sentence.\n",
    "Count the length of each word in that sentence.\n",
    "Display all the words in the descending order of their length in the form of list.\n",
    "\n",
    "INPUT: \"India is a great country. Karnataka is one of the states in India\"\n",
    "\n",
    "Expected output:\n",
    "\n",
    "[\"Karnataka\", \"country.\", \"states\", \"India\", \"great\", \"one\".... ]\n",
    "\n",
    "'''\n",
    "\n",
    "sen = input(\"Enter a sentence: \")\n",
    "ls = sen.split(\" \")\n",
    "ls\n",
    "for word in ls:\n",
    "    for letter in ls:\n",
    "        print(letter,end=\" \")"
   ]
  },
  {
   "cell_type": "markdown",
   "metadata": {},
   "source": [
    "### <font color = 'orange'> Doselect Assignments(PRACTICE) </font>"
   ]
  },
  {
   "cell_type": "code",
   "execution_count": 50,
   "metadata": {},
   "outputs": [
    {
     "name": "stdout",
     "output_type": "stream",
     "text": [
      "3\n",
      "hello \n",
      "6\n",
      "how \n",
      "4\n",
      "\n",
      "0\n"
     ]
    }
   ],
   "source": [
    "\n",
    "N = int(input())\n",
    "for i in range(N):\n",
    "    word = input()\n",
    "    leng = len(word)\n",
    "    print(leng)"
   ]
  },
  {
   "cell_type": "code",
   "execution_count": 14,
   "metadata": {},
   "outputs": [
    {
     "name": "stdout",
     "output_type": "stream",
     "text": [
      "bug\n",
      "3\n",
      "he\n",
      "hello\n",
      "bug\n",
      "False\n",
      "False\n",
      "True\n"
     ]
    }
   ],
   "source": [
    "\n",
    "X = input()\n",
    "N = int(input())\n",
    "N1=[]\n",
    "for word in range(N):\n",
    "    word = input()\n",
    "    N1.append(word)\n",
    "for i in range(N):\n",
    "    if(X==N1[i]):\n",
    "        print(\"True\")\n",
    "        break\n",
    "    else:\n",
    "        print(\"False\")\n",
    "    "
   ]
  },
  {
   "cell_type": "code",
   "execution_count": 64,
   "metadata": {},
   "outputs": [
    {
     "name": "stdout",
     "output_type": "stream",
     "text": [
      "bug\n",
      "3\n",
      "hig\n",
      "htr\n",
      "dagy\n"
     ]
    },
    {
     "data": {
      "text/plain": [
       "False"
      ]
     },
     "execution_count": 64,
     "metadata": {},
     "output_type": "execute_result"
    }
   ],
   "source": [
    "def find(X,N):\n",
    "    for word in range(N):\n",
    "        word = input()\n",
    "        N1.append(word)\n",
    "    \n",
    "    for i in range(N):\n",
    "        if (X==N1[i]):\n",
    "            return True\n",
    "    return False\n",
    "X = input()\n",
    "N = int(input())\n",
    "N1=[]\n",
    "find(X,N)"
   ]
  },
  {
   "cell_type": "code",
   "execution_count": 3,
   "metadata": {},
   "outputs": [
    {
     "name": "stdout",
     "output_type": "stream",
     "text": [
      "3\n",
      "who\n",
      "is\n",
      "largest\n",
      "7\n"
     ]
    }
   ],
   "source": [
    "N = int(input())\n",
    "c1=[]\n",
    "c2 = []\n",
    "for i in range(N):\n",
    "    c= input()\n",
    "    c1.append(c)\n",
    "for j in c1:\n",
    "    c2.append(len(j))\n",
    "print(max(c2))"
   ]
  },
  {
   "cell_type": "code",
   "execution_count": 16,
   "metadata": {},
   "outputs": [
    {
     "name": "stdout",
     "output_type": "stream",
     "text": [
      "bug\n",
      "3\n",
      "bug\n",
      "ok\n",
      "sjakja\n"
     ]
    },
    {
     "data": {
      "text/plain": [
       "True"
      ]
     },
     "execution_count": 16,
     "metadata": {},
     "output_type": "execute_result"
    }
   ],
   "source": [
    "def findx(X,N):\n",
    "    for word in range(N):\n",
    "        word = input()\n",
    "        N1.append(word)\n",
    "    \n",
    "    for i in range(N):\n",
    "        if (X==N1[i]):\n",
    "            return True\n",
    "    return False\n",
    "X = input()\n",
    "N = int(input())\n",
    "N1=[]\n",
    "findx(X,N)"
   ]
  },
  {
   "cell_type": "code",
   "execution_count": 2,
   "metadata": {},
   "outputs": [
    {
     "name": "stdout",
     "output_type": "stream",
     "text": [
      "bug\n",
      "3\n",
      "sjadns\n",
      "sdjs\n",
      "bug\n",
      "True\n"
     ]
    }
   ],
   "source": [
    "A = []\n",
    "x = input()\n",
    "N = int(input())\n",
    "i = 0\n",
    "while(N!=0):\n",
    "    y = input()\n",
    "    A.append(y)\n",
    "    N = N-1\n",
    "while(i<len(A)):\n",
    "    if(A[i]==x):\n",
    "        print(\"True\")\n",
    "        break\n",
    "    i = i+1\n",
    "else:\n",
    "    print(\"False\")\n"
   ]
  },
  {
   "cell_type": "code",
   "execution_count": 3,
   "metadata": {},
   "outputs": [
    {
     "name": "stdout",
     "output_type": "stream",
     "text": [
      "bug\n",
      "3\n",
      "njn\n",
      "njnn\n",
      "njnnju\n",
      "True\n"
     ]
    }
   ],
   "source": [
    "A = []\n",
    "x = input()\n",
    "N = int(input())\n",
    "i = 0\n",
    "while(N!=0):\n",
    "    y = input()\n",
    "    A.append(y)\n",
    "    N = N-1\n",
    "if not A:\n",
    "    print(\"False\")\n",
    "else:\n",
    "    print(\"True\")"
   ]
  },
  {
   "cell_type": "code",
   "execution_count": 1,
   "metadata": {},
   "outputs": [
    {
     "name": "stdout",
     "output_type": "stream",
     "text": [
      "bug\n",
      "3\n",
      "dsa\n",
      "bug\n",
      "swas\n",
      "False\n"
     ]
    }
   ],
   "source": [
    "A = []\n",
    "x = input()\n",
    "N = int(input())\n",
    "c = 0\n",
    "while(N!=0):\n",
    "    y = input()\n",
    "    A.append(y)\n",
    "    N = N-1\n",
    "for i in range(len(A)):\n",
    "    if(A[i]==x):\n",
    "        c = c+1\n",
    "    else:\n",
    "        c= 0\n",
    "if(c == 0):\n",
    "    print(\"False\")\n",
    "else:\n",
    "    print(\"True\")"
   ]
  },
  {
   "cell_type": "code",
   "execution_count": 6,
   "metadata": {},
   "outputs": [
    {
     "name": "stdout",
     "output_type": "stream",
     "text": [
      "3\n",
      "4\n",
      "    1\n",
      "   121\n",
      "  12321\n",
      " 1234321\n",
      "\n",
      "2\n",
      "  1\n",
      " 121\n",
      "\n",
      "5\n",
      "     1\n",
      "    121\n",
      "   12321\n",
      "  1234321\n",
      " 123454321\n",
      "\n"
     ]
    }
   ],
   "source": [
    "# Pattern Print\n",
    "T = int(input())\n",
    "while(True):\n",
    "    if ((T>=1) & (T<=15)):\n",
    "        for i in range(T):\n",
    "            n = int(input())\n",
    "            while(True):\n",
    "                if ((n>=1) &(n<=8)):\n",
    "                    for i in range(1,n+1):\n",
    "                        x = int(\"1\"*i)\n",
    "                        print(\" \"*((n)-i),x**2)\n",
    "                    print(\"\\r\")\n",
    "                    break\n",
    "                else:\n",
    "                    n = int(input())\n",
    "        break          \n",
    "    else:\n",
    "        T = int(input())"
   ]
  },
  {
   "cell_type": "code",
   "execution_count": 5,
   "metadata": {},
   "outputs": [
    {
     "name": "stdout",
     "output_type": "stream",
     "text": [
      "11\n"
     ]
    }
   ],
   "source": [
    "# Pattern Print(OR)\n",
    "T = int(input())\n",
    "if ((T>=1) & (T<=15)):\n",
    "    for i in range(T):\n",
    "        n = int(input())\n",
    "        if ((n>=1) &(n<=8)):\n",
    "            for i in range(1,n+1):\n",
    "                x = int(\"1\"*i)\n",
    "                print(\" \"*((n)-i),x**2)\n",
    "            print(\"\\r\")\n",
    "        else:\n",
    "            print(\"Out of Range!\")\n",
    "else:\n",
    "    print(\"Out of Range!\")"
   ]
  },
  {
   "cell_type": "code",
   "execution_count": 1,
   "metadata": {},
   "outputs": [
    {
     "name": "stdout",
     "output_type": "stream",
     "text": [
      "3\n",
      "7\n",
      "Prime\n",
      "8\n",
      "Composite\n",
      "1\n",
      "Out of Range\n"
     ]
    }
   ],
   "source": [
    "def isPrime(c):\n",
    "    for i in range(c):\n",
    "        n = int(input())\n",
    "        if((n>=2) & (n<=1000)):\n",
    "            for i in range(2,n):\n",
    "                if(n%i==0):\n",
    "                    print(\"Composite\")\n",
    "                    break\n",
    "            else:\n",
    "                print(\"Prime\")\n",
    "        else:\n",
    "            print(\"Out of Range\")\n",
    "T = int(input())\n",
    "if((T>=1) & (T <= 100)):\n",
    "    isPrime(T)\n",
    "else:\n",
    "    print(\"Out of Range\")"
   ]
  },
  {
   "cell_type": "code",
   "execution_count": 5,
   "metadata": {},
   "outputs": [
    {
     "name": "stdout",
     "output_type": "stream",
     "text": [
      "3\n",
      "1 9\n",
      "Difference Not in Range\n",
      "22 31\n",
      "[22, 23, 24, 25, 26, 27, 28, 29, 30, 31]\n",
      "90 103\n",
      "Out of Range\n"
     ]
    }
   ],
   "source": [
    "T = int(input())\n",
    "for i in range(T):\n",
    "    n = input()\n",
    "    ls = [int(x) for x in n.split()]\n",
    "    if((ls[0]>=1) & (ls[1]<=100)):\n",
    "        if((ls[1]-ls[0])==9):\n",
    "            ls1 = []\n",
    "            for i in range(ls[0],ls[1]+1):\n",
    "                ls1.append(i)\n",
    "            print(ls1)\n",
    "        else:\n",
    "            print(\"Difference Not in Range\")\n",
    "    else:\n",
    "        print(\"Out of Range\")"
   ]
  },
  {
   "cell_type": "code",
   "execution_count": 1,
   "metadata": {},
   "outputs": [
    {
     "name": "stdout",
     "output_type": "stream",
     "text": [
      "madam\n",
      "String is a PALINDROME\n"
     ]
    }
   ],
   "source": [
    "S = input()\n",
    "if(S == S[::-1]):\n",
    "    print(\"String is a PALINDROME\")\n",
    "else:\n",
    "    print(\"String NOT a PALINDROME\")"
   ]
  },
  {
   "cell_type": "code",
   "execution_count": 15,
   "metadata": {},
   "outputs": [
    {
     "ename": "SyntaxError",
     "evalue": "invalid syntax (<ipython-input-15-a8bdfd7c1d33>, line 9)",
     "output_type": "error",
     "traceback": [
      "\u001b[1;36m  File \u001b[1;32m\"<ipython-input-15-a8bdfd7c1d33>\"\u001b[1;36m, line \u001b[1;32m9\u001b[0m\n\u001b[1;33m    print(ls[0]jls[1])\u001b[0m\n\u001b[1;37m                 ^\u001b[0m\n\u001b[1;31mSyntaxError\u001b[0m\u001b[1;31m:\u001b[0m invalid syntax\n"
     ]
    }
   ],
   "source": [
    "T = int(input())\n",
    "N = input()\n",
    "ls = [int(x) for x in N.split(\"  \")]\n",
    "ls2 = []\n",
    "for i in range(T):\n",
    "    a = input()\n",
    "    ls2.append(a)\n",
    "for j in ls2:\n",
    "    print(ls[0]jls[1])"
   ]
  },
  {
   "cell_type": "code",
   "execution_count": 26,
   "metadata": {},
   "outputs": [
    {
     "name": "stdout",
     "output_type": "stream",
     "text": [
      "5\n",
      "20  15\n",
      "+\n",
      "-\n",
      "*\n",
      "/\n",
      "%\n",
      "35\n",
      "5\n",
      "300\n",
      "1\n",
      "5\n"
     ]
    }
   ],
   "source": [
    "T = int(input())\n",
    "N = input()\n",
    "ls = [int(x) for x in N.split(\"  \")]\n",
    "ls2 = []\n",
    "for i in range(T):\n",
    "    X = input()\n",
    "    ls2.append(X)\n",
    "for i in ls2:\n",
    "    if(i==\"+\"):\n",
    "        print(ls[0]+ls[1])\n",
    "    elif(i==\"-\"):\n",
    "        print(ls[0]-ls[1])\n",
    "    elif(i==\"*\"):\n",
    "        print(ls[0]*ls[1])\n",
    "    elif(i==\"/\"):\n",
    "        print(ls[0]//ls[1])\n",
    "    else:\n",
    "        print(ls[0]%ls[1])"
   ]
  },
  {
   "cell_type": "code",
   "execution_count": 1,
   "metadata": {},
   "outputs": [
    {
     "name": "stdout",
     "output_type": "stream",
     "text": [
      "['ab', 'cd']\n"
     ]
    }
   ],
   "source": [
    "x = [\"ab\",\"cd\"]\n",
    "for i in x:\n",
    "    i.upper()\n",
    "print(x)"
   ]
  },
  {
   "cell_type": "code",
   "execution_count": 5,
   "metadata": {},
   "outputs": [
    {
     "data": {
      "text/plain": [
       "array([[4, 6],\n",
       "       [5, 7]])"
      ]
     },
     "execution_count": 5,
     "metadata": {},
     "output_type": "execute_result"
    }
   ],
   "source": [
    "import numpy as np\n",
    "d1 = np.array([[4,6],[5,7]])\n",
    "d1"
   ]
  },
  {
   "cell_type": "code",
   "execution_count": 6,
   "metadata": {},
   "outputs": [
    {
     "data": {
      "text/plain": [
       "array([[6, 4],\n",
       "       [7, 5]])"
      ]
     },
     "execution_count": 6,
     "metadata": {},
     "output_type": "execute_result"
    }
   ],
   "source": [
    "d1[:,[1,0]]"
   ]
  },
  {
   "cell_type": "code",
   "execution_count": null,
   "metadata": {},
   "outputs": [],
   "source": []
  }
 ],
 "metadata": {
  "kernelspec": {
   "display_name": "Python 3",
   "language": "python",
   "name": "python3"
  },
  "language_info": {
   "codemirror_mode": {
    "name": "ipython",
    "version": 3
   },
   "file_extension": ".py",
   "mimetype": "text/x-python",
   "name": "python",
   "nbconvert_exporter": "python",
   "pygments_lexer": "ipython3",
   "version": "3.7.3"
  }
 },
 "nbformat": 4,
 "nbformat_minor": 2
}
