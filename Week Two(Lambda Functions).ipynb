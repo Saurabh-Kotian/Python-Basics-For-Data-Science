{
 "cells": [
  {
   "cell_type": "markdown",
   "metadata": {},
   "source": [
    "## set()\n",
    "- set is a datastructure which removes duplicate entries\n",
    "- sets cannot read values using index numbers"
   ]
  },
  {
   "cell_type": "code",
   "execution_count": 4,
   "metadata": {},
   "outputs": [
    {
     "name": "stdout",
     "output_type": "stream",
     "text": [
      "<class 'set'>\n"
     ]
    }
   ],
   "source": [
    "# Create an empty set\n",
    "st = set()\n",
    "print(type(st))"
   ]
  },
  {
   "cell_type": "code",
   "execution_count": 5,
   "metadata": {},
   "outputs": [
    {
     "name": "stdout",
     "output_type": "stream",
     "text": [
      "<class 'set'>\n"
     ]
    }
   ],
   "source": [
    "#Creating a simple set\n",
    "st = {\"Apple\",\"Banana\",\"Orange\"}\n",
    "print(type(st))"
   ]
  },
  {
   "cell_type": "code",
   "execution_count": 7,
   "metadata": {},
   "outputs": [
    {
     "name": "stdout",
     "output_type": "stream",
     "text": [
      "{'Apple', 'Banana', 'Orange'}\n"
     ]
    }
   ],
   "source": [
    "print(st) # The output is arranged based on some hash function. so ,might change"
   ]
  },
  {
   "cell_type": "code",
   "execution_count": 8,
   "metadata": {},
   "outputs": [
    {
     "name": "stdout",
     "output_type": "stream",
     "text": [
      "{'Apple', 'Banana', 'Cherry', 'Orange'}\n"
     ]
    }
   ],
   "source": [
    "#add element to a set\n",
    "st.add(\"Cherry\")\n",
    "print(st)"
   ]
  },
  {
   "cell_type": "code",
   "execution_count": 9,
   "metadata": {},
   "outputs": [
    {
     "name": "stdout",
     "output_type": "stream",
     "text": [
      "{'Apple', 'Cherry', 'Orange'}\n"
     ]
    }
   ],
   "source": [
    "# Remove elements from the set\n",
    "st.remove(\"Banana\")\n",
    "print(st)"
   ]
  },
  {
   "cell_type": "code",
   "execution_count": 10,
   "metadata": {},
   "outputs": [
    {
     "name": "stdout",
     "output_type": "stream",
     "text": [
      "{'Banana', 'papaya', 'Apple', 'Orange', 'Cherry'}\n"
     ]
    }
   ],
   "source": [
    "# Adding more than one element at a time\n",
    "st = {\"Apple\",\"Banana\",\"Orange\"}\n",
    "st.update([\"Cherry\",\"papaya\"])\n",
    "print(st)"
   ]
  },
  {
   "cell_type": "code",
   "execution_count": 12,
   "metadata": {},
   "outputs": [
    {
     "name": "stdout",
     "output_type": "stream",
     "text": [
      "{'Apple', 'Banana', 'Orange'}\n"
     ]
    }
   ],
   "source": [
    "# Sets will not allow dUplication of data elements\n",
    "st ={\"Apple\",\"Banana\",\"Orange\",\"Banana\"}\n",
    "print(st)"
   ]
  },
  {
   "cell_type": "code",
   "execution_count": 19,
   "metadata": {},
   "outputs": [
    {
     "name": "stdout",
     "output_type": "stream",
     "text": [
      "{1, 2, 33, 4, 65, 6, 3, 43, 76}\n",
      "------------------------------\n",
      "[1, 2, 33, 4, 65, 6, 3, 43, 76]\n",
      "==============================\n",
      "[1, 2, 33, 4, 65, 6, 3, 43, 76]\n"
     ]
    }
   ],
   "source": [
    "# Write a program to remove the repeated elements in a list and keep single copy of them.\n",
    "st = [1,1,2,4,6,4,76,33,65,43,76,3,2]\n",
    "s = set(st)\n",
    "print(s)\n",
    "print(\"-\"*30)\n",
    "ls1 = list(s)\n",
    "print(ls1)\n",
    "\n",
    "# Or\n",
    "print(\"=\"*30)\n",
    "S = print(list(set(st)))"
   ]
  },
  {
   "cell_type": "code",
   "execution_count": 20,
   "metadata": {},
   "outputs": [
    {
     "data": {
      "text/plain": [
       "{2, 3.4, 'hello'}"
      ]
     },
     "execution_count": 20,
     "metadata": {},
     "output_type": "execute_result"
    }
   ],
   "source": [
    "# Mixed type\n",
    "s = {\"hello\",2,3.4}\n",
    "s"
   ]
  },
  {
   "cell_type": "markdown",
   "metadata": {},
   "source": [
    "# <font color = \"red\">** Lambda Functions **</font>\n",
    "- Functions without name.\n",
    "- Simple Functions where the task to be carried out is small.\n",
    "- Can take arguments\n"
   ]
  },
  {
   "cell_type": "code",
   "execution_count": 21,
   "metadata": {},
   "outputs": [
    {
     "name": "stdout",
     "output_type": "stream",
     "text": [
      "15\n"
     ]
    }
   ],
   "source": [
    "# Simple example of lambda Function\n",
    "x = lambda a: a+10\n",
    "print(x(5))"
   ]
  },
  {
   "cell_type": "code",
   "execution_count": 22,
   "metadata": {},
   "outputs": [
    {
     "name": "stdout",
     "output_type": "stream",
     "text": [
      "200\n",
      "20\n",
      "-18\n"
     ]
    }
   ],
   "source": [
    "# Lambda funtion with two arguments\n",
    "x = lambda a,b:a*b\n",
    "print(x(10,20))\n",
    "print(x(4,5))\n",
    "print(x(2,-9))"
   ]
  },
  {
   "cell_type": "markdown",
   "metadata": {},
   "source": [
    "## <font color = \"red\">** filter() **</font>\n",
    "- Checks the condition and if the condition is True it will save it in new list and if the condition is False that element will be discarded."
   ]
  },
  {
   "cell_type": "code",
   "execution_count": 23,
   "metadata": {},
   "outputs": [
    {
     "name": "stdout",
     "output_type": "stream",
     "text": [
      "[5, 7, 35, 27, 73, 61]\n"
     ]
    }
   ],
   "source": [
    "# Lambda function with filter() to get only odd numbers\n",
    "ls = [5,7,22,4,35,27,68,73,61,66]\n",
    "final_list = list(filter(lambda x:(x%2!=0),ls)) \n",
    "# Here inside the filter function, the second argument(ie.\"ls\") is the source from where the data is extracted.\n",
    "# And then inside the lambda function x value will be values from list ls.\n",
    "print(final_list)"
   ]
  },
  {
   "cell_type": "code",
   "execution_count": 27,
   "metadata": {},
   "outputs": [
    {
     "name": "stdout",
     "output_type": "stream",
     "text": [
      "hello how are you?\n",
      "['hello', 'how', 'are', 'you?']\n"
     ]
    },
    {
     "data": {
      "text/plain": [
       "['how', 'are']"
      ]
     },
     "execution_count": 27,
     "metadata": {},
     "output_type": "execute_result"
    }
   ],
   "source": [
    "# Extract the words from a line those having length as 3.\n",
    "\n",
    "line = input() \n",
    "ls = line.split()\n",
    "print(ls)\n",
    "len_3 = list(filter(lambda x:(len(x)==3),ls))\n",
    "len_3"
   ]
  },
  {
   "cell_type": "code",
   "execution_count": 29,
   "metadata": {},
   "outputs": [
    {
     "name": "stdout",
     "output_type": "stream",
     "text": [
      "hwllo how are you\n",
      "['hwllo', 'how', 'are', 'you']\n",
      "['hwllo', 'how']\n"
     ]
    }
   ],
   "source": [
    "# Extract the words from a line which are starting with \"h\"\n",
    "line = input()\n",
    "ls = line.split()\n",
    "print(ls)\n",
    "line_h = list(filter(lambda x:x.startswith(\"h\"),ls))\n",
    "print(line_h)"
   ]
  },
  {
   "cell_type": "code",
   "execution_count": 31,
   "metadata": {},
   "outputs": [
    {
     "name": "stdout",
     "output_type": "stream",
     "text": [
      "hello how are you\n",
      "['hello', 'how', 'are', 'you']\n",
      "['are', 'you']\n"
     ]
    }
   ],
   "source": [
    "# Extract the words from a line which DOESNOT start with \"h\"\n",
    "line = input()\n",
    "ls = line.split()\n",
    "print(ls)\n",
    "line_h = list(filter(lambda x:x.startswith(\"h\") == False,ls))\n",
    "print(line_h)"
   ]
  },
  {
   "cell_type": "code",
   "execution_count": 33,
   "metadata": {},
   "outputs": [
    {
     "name": "stdout",
     "output_type": "stream",
     "text": [
      "Hello how are you\n",
      "['Hello', 'how', 'are', 'you']\n",
      "['Hello', 'how']\n"
     ]
    }
   ],
   "source": [
    "# Extract the words from a line which doesnot start with \"h\" and \"H\"\n",
    "line = input()\n",
    "ls = line.split()\n",
    "print(ls)\n",
    "line_h = list(filter(lambda x:x.startswith((\"h\",\"H\")),ls))\n",
    "print(line_h)"
   ]
  },
  {
   "cell_type": "markdown",
   "metadata": {},
   "source": [
    "## <font color = \"red\">** map() **</font>\n",
    "- Reads all the elements in the list and makes some mathematical operations and displays it.\n",
    "- Here orignal list and the Final List will have same number of elements."
   ]
  },
  {
   "cell_type": "code",
   "execution_count": 36,
   "metadata": {},
   "outputs": [
    {
     "name": "stdout",
     "output_type": "stream",
     "text": [
      "[10, 14, 6, 8, 18, 16, 4]\n"
     ]
    }
   ],
   "source": [
    "# Lambda Function with map\n",
    "ls = [5,7,3,4,9,8,2]\n",
    "final_list = list(map(lambda x:x*2,ls))\n",
    "print(final_list)"
   ]
  },
  {
   "cell_type": "code",
   "execution_count": 56,
   "metadata": {},
   "outputs": [
    {
     "name": "stdout",
     "output_type": "stream",
     "text": [
      "Deviation:  [3.4489795918367334, 1.3061224489795926, 17.16326530612245, 4.591836734693879, 3.4489795918367334, 0.7346938775510198, 8.163265306122447]\n",
      "Varience:  5.551020408163265\n",
      "standard deviation:  2.356060357495806\n"
     ]
    }
   ],
   "source": [
    "# Compute varience of a list of elements\n",
    "import math\n",
    "ls = [8,5,2,4,8,7,9]\n",
    "avg = sum(ls)/len(ls)\n",
    "deviation= list(map(lambda x:(x-avg)**2,ls))\n",
    "print(\"Deviation: \",deviation)\n",
    "varience = sum(deviation)/len(ls)\n",
    "print(\"Varience: \",varience)\n",
    "std_deviation = math.sqrt(varience)\n",
    "print(\"standard deviation: \",std_deviation)"
   ]
  },
  {
   "cell_type": "code",
   "execution_count": 59,
   "metadata": {},
   "outputs": [
    {
     "name": "stdout",
     "output_type": "stream",
     "text": [
      "['HI', 'HOW']\n"
     ]
    }
   ],
   "source": [
    "ls = [\"hi\",\"HoW\"]\n",
    "upper_s= list(map(lambda x:x.upper(),ls))\n",
    "print(upper_s)"
   ]
  },
  {
   "cell_type": "markdown",
   "metadata": {},
   "source": [
    "## <font color = \"red\" >** reduce() **</font>\n",
    "- To use reduce() function, first import reduce from functools using \"from functools import reduce\""
   ]
  },
  {
   "cell_type": "code",
   "execution_count": 6,
   "metadata": {},
   "outputs": [],
   "source": [
    "# Lambda Function with reduce()\n",
    "from functools import reduce"
   ]
  },
  {
   "cell_type": "code",
   "execution_count": 7,
   "metadata": {},
   "outputs": [
    {
     "name": "stdout",
     "output_type": "stream",
     "text": [
      "193\n"
     ]
    }
   ],
   "source": [
    "'''\n",
    "Here first the value of x will be 5 and the value of y will be 8. It will then do the sum operation and store the value it in \n",
    "a temporary memory. For the next iteration, x value will be taken as 13 (ie.5+8) and y value will be taken as 10, then the sum \n",
    "opeartion is performed and the value will be stored in temporary memory for next iteration and so on....\n",
    "\n",
    "'''\n",
    "\n",
    "ls = [5,8,10,20,50,100]\n",
    "total = reduce((lambda x,y:x+y),ls)\n",
    "print(total)"
   ]
  },
  {
   "cell_type": "code",
   "execution_count": 8,
   "metadata": {},
   "outputs": [
    {
     "name": "stdout",
     "output_type": "stream",
     "text": [
      "hiHELL0hey\n"
     ]
    }
   ],
   "source": [
    "ls = [\"hi\",\"HELL0\",\"hey\"]\n",
    "total = reduce((lambda x,y:x+y),ls)\n",
    "print(total)"
   ]
  },
  {
   "cell_type": "code",
   "execution_count": 65,
   "metadata": {},
   "outputs": [
    {
     "name": "stdout",
     "output_type": "stream",
     "text": [
      "['Karnataka', 'country.', 'states', 'India', 'great', 'India', 'one', 'the', 'is', 'is', 'of', 'in', 'a']\n"
     ]
    }
   ],
   "source": [
    "'''\n",
    "Read a sentence.\n",
    "Count the length of each word in that sentence.\n",
    "Display all the words in the descending order of their length in the form of list.\n",
    "\n",
    "INPUT: \"India is a great country. Karnataka is one of the states in India\"\n",
    "\n",
    "Expected output:\n",
    "\n",
    "[\"Karnataka\", \"country.\", \"states\", \"India\", \"great\", \"one\".... ]\n",
    "\n",
    "'''\n",
    "text = \"India is a great country. Karnataka is one of the states in India\"\n",
    "words = text.split()\n",
    "words.sort(key = len,reverse = True)\n",
    "print(words)"
   ]
  },
  {
   "cell_type": "code",
   "execution_count": 9,
   "metadata": {},
   "outputs": [
    {
     "name": "stdout",
     "output_type": "stream",
     "text": [
      "2 2 2 3 3 2\n",
      "[2, 2, 2, 3, 3, 2]\n",
      "[(3, 2), (2, 4)]\n",
      "[(3, 2), (2, 4)]\n"
     ]
    }
   ],
   "source": [
    "# Not completed\n",
    "'''\n",
    "ls = []\n",
    "N = int(input(\"Enter the length of the list: \"))\n",
    "for i in range(N):\n",
    "    numb = int(input(\"Enter the num\"))\n",
    "    ls.append(numb)\n",
    "print(ls)\n",
    "'''\n",
    "s = input()\n",
    "ls = [int(x) for x in (s.split())]\n",
    "print(ls)\n",
    "new_list = list(set(map(lambda x: (x,ls.count(x)),ls )))\n",
    "print(new_list)\n",
    "new_list.sort(key =len)\n",
    "print(new_list)\n",
    "#for i in range(len(new_list)):\n",
    " #   if (new_list[i][1]<new_list[i][1]):\n",
    "  #      new_list.sort(key = len)\n",
    "   #     print(new_list)"
   ]
  },
  {
   "cell_type": "markdown",
   "metadata": {},
   "source": [
    "# Error \n",
    "- Syntax Error\n",
    "- Semantic Error\n",
    "- Run time Error or (Exceptions)"
   ]
  },
  {
   "cell_type": "code",
   "execution_count": 98,
   "metadata": {},
   "outputs": [
    {
     "name": "stdout",
     "output_type": "stream",
     "text": [
      "Enter a: 10\n",
      "Enter b: 0\n",
      "Division by zero is not possible,Enter b again\n",
      "Enter b: 0\n",
      "Division by zero is not possible,Enter b again\n",
      "Enter b: 4\n",
      "Division is:  2.5\n",
      "Program over\n"
     ]
    }
   ],
   "source": [
    "# Example of exception handling\n",
    "a = int(input(\"Enter a: \"))\n",
    "while True:\n",
    "    b = int(input(\"Enter b: \"))\n",
    "    try:\n",
    "        x= a/b\n",
    "        break\n",
    "    except:\n",
    "        print(\"Division by zero is not possible,Enter b again\")\n",
    "        \n",
    "print(\"Division is: \",x)\n",
    "print(\"Program over\")       "
   ]
  },
  {
   "cell_type": "code",
   "execution_count": 7,
   "metadata": {},
   "outputs": [
    {
     "name": "stdout",
     "output_type": "stream",
     "text": [
      "2\n",
      "3 4\n"
     ]
    },
    {
     "ename": "TypeError",
     "evalue": "int() argument must be a string, a bytes-like object or a number, not 'list'",
     "output_type": "error",
     "traceback": [
      "\u001b[1;31m---------------------------------------------------------------------------\u001b[0m",
      "\u001b[1;31mTypeError\u001b[0m                                 Traceback (most recent call last)",
      "\u001b[1;32m<ipython-input-7-87c19de48369>\u001b[0m in \u001b[0;36m<module>\u001b[1;34m\u001b[0m\n\u001b[0;32m      3\u001b[0m     \u001b[0ms\u001b[0m \u001b[1;33m=\u001b[0m \u001b[0minput\u001b[0m\u001b[1;33m(\u001b[0m\u001b[1;33m)\u001b[0m\u001b[1;33m\u001b[0m\u001b[1;33m\u001b[0m\u001b[0m\n\u001b[0;32m      4\u001b[0m     \u001b[0mls\u001b[0m \u001b[1;33m=\u001b[0m \u001b[0ms\u001b[0m\u001b[1;33m.\u001b[0m\u001b[0msplit\u001b[0m\u001b[1;33m(\u001b[0m\u001b[1;33m)\u001b[0m\u001b[1;33m\u001b[0m\u001b[1;33m\u001b[0m\u001b[0m\n\u001b[1;32m----> 5\u001b[1;33m     \u001b[0mint\u001b[0m\u001b[1;33m(\u001b[0m\u001b[0mls\u001b[0m\u001b[1;33m)\u001b[0m\u001b[1;33m\u001b[0m\u001b[1;33m\u001b[0m\u001b[0m\n\u001b[0m",
      "\u001b[1;31mTypeError\u001b[0m: int() argument must be a string, a bytes-like object or a number, not 'list'"
     ]
    }
   ],
   "source": [
    "N = int(input())\n",
    "for i in range(N):\n",
    "    s = input()\n",
    "    ls = s.split()\n",
    "    int(ls)"
   ]
  },
  {
   "cell_type": "code",
   "execution_count": 8,
   "metadata": {},
   "outputs": [
    {
     "name": "stdout",
     "output_type": "stream",
     "text": [
      "30\n"
     ]
    }
   ],
   "source": []
  },
  {
   "cell_type": "code",
   "execution_count": null,
   "metadata": {},
   "outputs": [],
   "source": []
  }
 ],
 "metadata": {
  "kernelspec": {
   "display_name": "Python 3",
   "language": "python",
   "name": "python3"
  },
  "language_info": {
   "codemirror_mode": {
    "name": "ipython",
    "version": 3
   },
   "file_extension": ".py",
   "mimetype": "text/x-python",
   "name": "python",
   "nbconvert_exporter": "python",
   "pygments_lexer": "ipython3",
   "version": "3.7.3"
  }
 },
 "nbformat": 4,
 "nbformat_minor": 2
}
